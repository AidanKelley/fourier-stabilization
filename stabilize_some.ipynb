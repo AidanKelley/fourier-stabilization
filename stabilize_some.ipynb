{
 "cells": [
  {
   "cell_type": "code",
   "execution_count": 1,
   "id": "marked-passenger",
   "metadata": {},
   "outputs": [],
   "source": [
    "# constants that the old script wanted\n",
    "\n",
    "norm = 1\n",
    "dataset = \"pdfrate\"\n",
    "in_file = \"models_final_real/pdfrate_sigmoid.h5:custom_sigmoid\"\n",
    "code_file = None\n",
    "model_type = \"pdf\""
   ]
  },
  {
   "cell_type": "code",
   "execution_count": 2,
   "id": "surprised-deposit",
   "metadata": {},
   "outputs": [
    {
     "name": "stdout",
     "output_type": "stream",
     "text": [
      "dataset: pdfrate codes: None\n",
      "(8066, 135)\n",
      "(2016, 135)\n"
     ]
    }
   ],
   "source": [
    "from src.data import get_data\n",
    "\n",
    "x_train, y_train, x_test, y_test = get_data(dataset)\n"
   ]
  },
  {
   "cell_type": "code",
   "execution_count": 3,
   "outputs": [],
   "source": [
    "import tensorflow as tf\n",
    "from tensorflow import keras\n",
    "import numpy as np"
   ],
   "metadata": {
    "collapsed": false,
    "pycharm": {
     "name": "#%%\n"
    }
   }
  },
  {
   "cell_type": "code",
   "execution_count": 4,
   "outputs": [
    {
     "name": "stdout",
     "output_type": "stream",
     "text": [
      "2016/2016 - 0s - loss: 0.0064 - accuracy: 0.9995\n"
     ]
    },
    {
     "data": {
      "text/plain": "[0.006374326277312191, 0.99950397]"
     },
     "execution_count": 4,
     "metadata": {},
     "output_type": "execute_result"
    }
   ],
   "source": [
    "from src.models import load_model, load_mnist_model, sign, load_general_model\n",
    "\n",
    "model, _ = load_general_model(x_train, y_train, in_file,\n",
    "                           1024, None, model_type)\n",
    "\n",
    "model.evaluate(x_test, y_test, verbose=2)"
   ],
   "metadata": {
    "collapsed": false,
    "pycharm": {
     "name": "#%%\n"
    }
   }
  },
  {
   "cell_type": "code",
   "execution_count": 5,
   "outputs": [
    {
     "name": "stdout",
     "output_type": "stream",
     "text": [
      "doing the stabilize\n",
      "2016/2016 [==============================] - 0s 19us/sample - loss: 0.0064 - accuracy: 0.9995\b\b\b\b\b\b\b\b\b\b\b\b\b\b\b\b\b\b\b\b\b\b\b\b\b\b\b\b\b\b\b\b\b\b\b\b\b\b\b\b\b\b\b\b\b\b\b\b\b\b\b\b\b\b\b\b\b\b\b\b\b\b\b\b\b\b\b\b\b\b\b\b\b\b\b\b\b\b\b\n",
      "current acc: 0.9995039701461792\n",
      "layer_shape: (135, 16)\n",
      "layer size: 135\n",
      "layer: 0, neuron: 0, rob: 111.03518676757812, acc: none, ok: True\n",
      "layer: 0, neuron: 1, rob: 96.97989654541016, acc: none, ok: True\n",
      "layer: 0, neuron: 2, rob: 117.571533203125, acc: none, ok: True\n",
      "layer: 0, neuron: 3, rob: 100.46511840820312, acc: none, ok: True\n",
      "layer: 0, neuron: 4, rob: 113.47007751464844, acc: none, ok: True\n",
      "layer: 0, neuron: 5, rob: 97.23228454589844, acc: none, ok: True\n",
      "layer: 0, neuron: 6, rob: 97.40857696533203, acc: none, ok: True\n",
      "layer: 0, neuron: 7, rob: 106.48064422607422, acc: none, ok: True\n",
      "layer: 0, neuron: 8, rob: 110.68678283691406, acc: none, ok: True\n",
      "layer: 0, neuron: 9, rob: 108.27071380615234, acc: none, ok: True\n",
      "layer: 0, neuron: 10, rob: 105.21488189697266, acc: none, ok: True\n",
      "layer: 0, neuron: 11, rob: 98.94876098632812, acc: none, ok: True\n",
      "layer: 0, neuron: 12, rob: 112.78353881835938, acc: none, ok: True\n",
      "layer: 0, neuron: 13, rob: 101.74724578857422, acc: none, ok: True\n",
      "layer: 0, neuron: 14, rob: 105.28466033935547, acc: none, ok: True\n",
      "layer: 0, neuron: 15, rob: 99.98577880859375, acc: none, ok: True\n",
      "layer_shape: (16, 2)\n",
      "layer size: 16\n",
      "layer: 2, neuron: 0, rob: 5.585949897766113, acc: none, ok: True\n",
      "layer: 2, neuron: 1, rob: 4.861977577209473, acc: none, ok: True\n",
      "changing neuron at layer: 0 index: 2\n",
      "2016/2016 [==============================] - 0s 19us/sample - loss: 0.0075 - accuracy: 0.9985\b\b\b\b\b\b\b\b\b\b\b\b\b\b\b\b\b\b\b\b\b\b\b\b\b\b\b\b\b\b\b\b\b\b\b\b\b\b\b\b\b\b\b\b\b\b\b\b\b\b\b\b\b\b\b\b\b\b\b\b\b\b\b\b\b\b\b\b\b\b\b\b\b\b\b\b\b\b\b\n",
      "current acc: 0.9985119104385376\n",
      "layer_shape: (135, 16)\n",
      "layer size: 135\n",
      "layer: 0, neuron: 0, rob: 111.03518676757812, acc: none, ok: True\n",
      "layer: 0, neuron: 1, rob: 96.97989654541016, acc: none, ok: True\n",
      "layer: 0, neuron: 3, rob: 100.46511840820312, acc: none, ok: True\n",
      "layer: 0, neuron: 4, rob: 113.47007751464844, acc: none, ok: True\n",
      "layer: 0, neuron: 5, rob: 97.23228454589844, acc: none, ok: True\n",
      "layer: 0, neuron: 6, rob: 97.40857696533203, acc: none, ok: True\n",
      "layer: 0, neuron: 7, rob: 106.48064422607422, acc: none, ok: True\n",
      "layer: 0, neuron: 8, rob: 110.68678283691406, acc: none, ok: True\n",
      "layer: 0, neuron: 9, rob: 108.27071380615234, acc: none, ok: True\n",
      "layer: 0, neuron: 10, rob: 105.21488189697266, acc: none, ok: True\n",
      "layer: 0, neuron: 11, rob: 98.94876098632812, acc: none, ok: True\n",
      "layer: 0, neuron: 12, rob: 112.78353881835938, acc: none, ok: True\n",
      "layer: 0, neuron: 13, rob: 101.74724578857422, acc: none, ok: True\n",
      "layer: 0, neuron: 14, rob: 105.28466033935547, acc: none, ok: True\n",
      "layer: 0, neuron: 15, rob: 99.98577880859375, acc: none, ok: True\n",
      "layer_shape: (16, 2)\n",
      "layer size: 16\n",
      "layer: 2, neuron: 0, rob: 5.585949897766113, acc: none, ok: True\n",
      "layer: 2, neuron: 1, rob: 4.861977577209473, acc: none, ok: True\n",
      "changing neuron at layer: 0 index: 4\n",
      "2016/2016 [==============================] - 0s 26us/sample - loss: 0.0073 - accuracy: 0.9980\b\b\b\b\b\b\b\b\b\b\b\b\b\b\b\b\b\b\b\b\b\b\b\b\b\b\b\b\b\b\b\b\b\b\b\b\b\b\b\b\b\b\b\b\b\b\b\b\b\b\b\b\b\b\b\b\b\b\b\b\b\b\b\b\b\b\b\b\b\b\b\b\b\b\b\b\b\b\b\n",
      "current acc: 0.9980158805847168\n",
      "layer_shape: (135, 16)\n",
      "layer size: 135\n",
      "layer: 0, neuron: 0, rob: 111.03518676757812, acc: none, ok: True\n",
      "layer: 0, neuron: 1, rob: 96.97989654541016, acc: none, ok: True\n",
      "layer: 0, neuron: 3, rob: 100.46511840820312, acc: none, ok: True\n",
      "layer: 0, neuron: 5, rob: 97.23228454589844, acc: none, ok: True\n",
      "layer: 0, neuron: 6, rob: 97.40857696533203, acc: none, ok: True\n",
      "layer: 0, neuron: 7, rob: 106.48064422607422, acc: none, ok: True\n",
      "layer: 0, neuron: 8, rob: 110.68678283691406, acc: none, ok: True\n",
      "layer: 0, neuron: 9, rob: 108.27071380615234, acc: none, ok: True\n",
      "layer: 0, neuron: 10, rob: 105.21488189697266, acc: none, ok: True\n",
      "layer: 0, neuron: 11, rob: 98.94876098632812, acc: none, ok: True\n",
      "layer: 0, neuron: 12, rob: 112.78353881835938, acc: none, ok: True\n",
      "layer: 0, neuron: 13, rob: 101.74724578857422, acc: none, ok: True\n",
      "layer: 0, neuron: 14, rob: 105.28466033935547, acc: none, ok: True\n",
      "layer: 0, neuron: 15, rob: 99.98577880859375, acc: none, ok: True\n",
      "layer_shape: (16, 2)\n",
      "layer size: 16\n",
      "layer: 2, neuron: 0, rob: 5.585949897766113, acc: none, ok: True\n",
      "layer: 2, neuron: 1, rob: 4.861977577209473, acc: none, ok: True\n",
      "changing neuron at layer: 0 index: 12\n",
      "2016/2016 [==============================] - 0s 23us/sample - loss: 0.0082 - accuracy: 0.9990\b\b\b\b\b\b\b\b\b\b\b\b\b\b\b\b\b\b\b\b\b\b\b\b\b\b\b\b\b\b\b\b\b\b\b\b\b\b\b\b\b\b\b\b\b\b\b\b\b\b\b\b\b\b\b\b\b\b\b\b\b\b\b\b\b\b\b\b\b\b\b\b\b\b\b\b\b\b\b\n",
      "current acc: 0.9990079402923584\n",
      "layer_shape: (135, 16)\n",
      "layer size: 135\n",
      "layer: 0, neuron: 0, rob: 111.03518676757812, acc: none, ok: True\n",
      "layer: 0, neuron: 1, rob: 96.97989654541016, acc: none, ok: True\n",
      "layer: 0, neuron: 3, rob: 100.46511840820312, acc: none, ok: True\n",
      "layer: 0, neuron: 5, rob: 97.23228454589844, acc: none, ok: True\n",
      "layer: 0, neuron: 6, rob: 97.40857696533203, acc: none, ok: True\n",
      "layer: 0, neuron: 7, rob: 106.48064422607422, acc: none, ok: True\n",
      "layer: 0, neuron: 8, rob: 110.68678283691406, acc: none, ok: True\n",
      "layer: 0, neuron: 9, rob: 108.27071380615234, acc: none, ok: True\n",
      "layer: 0, neuron: 10, rob: 105.21488189697266, acc: none, ok: True\n",
      "layer: 0, neuron: 11, rob: 98.94876098632812, acc: none, ok: True\n",
      "layer: 0, neuron: 13, rob: 101.74724578857422, acc: none, ok: True\n",
      "layer: 0, neuron: 14, rob: 105.28466033935547, acc: none, ok: True\n",
      "layer: 0, neuron: 15, rob: 99.98577880859375, acc: none, ok: True\n",
      "layer_shape: (16, 2)\n",
      "layer size: 16\n",
      "layer: 2, neuron: 0, rob: 5.585949897766113, acc: none, ok: True\n",
      "layer: 2, neuron: 1, rob: 4.861977577209473, acc: none, ok: True\n",
      "changing neuron at layer: 0 index: 0\n",
      "2016/2016 [==============================] - 0s 21us/sample - loss: 0.0094 - accuracy: 0.9985\b\b\b\b\b\b\b\b\b\b\b\b\b\b\b\b\b\b\b\b\b\b\b\b\b\b\b\b\b\b\b\b\b\b\b\b\b\b\b\b\b\b\b\b\b\b\b\b\b\b\b\b\b\b\b\b\b\b\b\b\b\b\b\b\b\b\b\b\b\b\b\b\b\b\b\b\b\b\b\n",
      "current acc: 0.9985119104385376\n",
      "layer_shape: (135, 16)\n",
      "layer size: 135\n",
      "layer: 0, neuron: 1, rob: 96.97989654541016, acc: none, ok: True\n",
      "layer: 0, neuron: 3, rob: 100.46511840820312, acc: none, ok: True\n",
      "layer: 0, neuron: 5, rob: 97.23228454589844, acc: none, ok: True\n",
      "layer: 0, neuron: 6, rob: 97.40857696533203, acc: none, ok: True\n",
      "layer: 0, neuron: 7, rob: 106.48064422607422, acc: none, ok: True\n",
      "layer: 0, neuron: 8, rob: 110.68678283691406, acc: none, ok: True\n",
      "layer: 0, neuron: 9, rob: 108.27071380615234, acc: none, ok: True\n",
      "layer: 0, neuron: 10, rob: 105.21488189697266, acc: none, ok: True\n",
      "layer: 0, neuron: 11, rob: 98.94876098632812, acc: none, ok: True\n",
      "layer: 0, neuron: 13, rob: 101.74724578857422, acc: none, ok: True\n",
      "layer: 0, neuron: 14, rob: 105.28466033935547, acc: none, ok: True\n",
      "layer: 0, neuron: 15, rob: 99.98577880859375, acc: none, ok: True\n",
      "layer_shape: (16, 2)\n",
      "layer size: 16\n",
      "layer: 2, neuron: 0, rob: 5.585949897766113, acc: none, ok: True\n",
      "layer: 2, neuron: 1, rob: 4.861977577209473, acc: none, ok: True\n",
      "changing neuron at layer: 0 index: 8\n",
      "2016/2016 [==============================] - 0s 22us/sample - loss: 0.0148 - accuracy: 0.9960\b\b\b\b\b\b\b\b\b\b\b\b\b\b\b\b\b\b\b\b\b\b\b\b\b\b\b\b\b\b\b\b\b\b\b\b\b\b\b\b\b\b\b\b\b\b\b\b\b\b\b\b\b\b\b\b\b\b\b\b\b\b\b\b\b\b\b\b\b\b\b\b\b\b\b\b\b\b\b\n",
      "current acc: 0.9960317611694336\n",
      "layer_shape: (135, 16)\n",
      "layer size: 135\n",
      "layer: 0, neuron: 1, rob: 96.97989654541016, acc: none, ok: True\n",
      "layer: 0, neuron: 3, rob: 100.46511840820312, acc: none, ok: True\n",
      "layer: 0, neuron: 5, rob: 97.23228454589844, acc: none, ok: True\n",
      "layer: 0, neuron: 6, rob: 97.40857696533203, acc: none, ok: True\n",
      "layer: 0, neuron: 7, rob: 106.48064422607422, acc: none, ok: True\n",
      "layer: 0, neuron: 9, rob: 108.27071380615234, acc: none, ok: True\n",
      "layer: 0, neuron: 10, rob: 105.21488189697266, acc: none, ok: True\n",
      "layer: 0, neuron: 11, rob: 98.94876098632812, acc: none, ok: True\n",
      "layer: 0, neuron: 13, rob: 101.74724578857422, acc: none, ok: True\n",
      "layer: 0, neuron: 14, rob: 105.28466033935547, acc: none, ok: True\n",
      "layer: 0, neuron: 15, rob: 99.98577880859375, acc: none, ok: True\n",
      "layer_shape: (16, 2)\n",
      "layer size: 16\n",
      "layer: 2, neuron: 0, rob: 5.585949897766113, acc: none, ok: True\n",
      "layer: 2, neuron: 1, rob: 4.861977577209473, acc: none, ok: True\n",
      "changing neuron at layer: 0 index: 9\n",
      "2016/2016 [==============================] - 0s 20us/sample - loss: 0.0162 - accuracy: 0.9955\b\b\b\b\b\b\b\b\b\b\b\b\b\b\b\b\b\b\b\b\b\b\b\b\b\b\b\b\b\b\b\b\b\b\b\b\b\b\b\b\b\b\b\b\b\b\b\b\b\b\b\b\b\b\b\b\b\b\b\b\b\b\b\b\b\b\b\b\b\b\b\b\b\b\b\b\b\b\b\n",
      "current acc: 0.9955357313156128\n",
      "layer_shape: (135, 16)\n",
      "layer size: 135\n",
      "layer: 0, neuron: 1, rob: 96.97989654541016, acc: none, ok: True\n",
      "layer: 0, neuron: 3, rob: 100.46511840820312, acc: none, ok: True\n",
      "layer: 0, neuron: 5, rob: 97.23228454589844, acc: none, ok: True\n",
      "layer: 0, neuron: 6, rob: 97.40857696533203, acc: none, ok: True\n",
      "layer: 0, neuron: 7, rob: 106.48064422607422, acc: none, ok: True\n",
      "layer: 0, neuron: 10, rob: 105.21488189697266, acc: none, ok: True\n",
      "layer: 0, neuron: 11, rob: 98.94876098632812, acc: none, ok: True\n",
      "layer: 0, neuron: 13, rob: 101.74724578857422, acc: none, ok: True\n",
      "layer: 0, neuron: 14, rob: 105.28466033935547, acc: none, ok: True\n",
      "layer: 0, neuron: 15, rob: 99.98577880859375, acc: none, ok: True\n",
      "layer_shape: (16, 2)\n",
      "layer size: 16\n",
      "layer: 2, neuron: 0, rob: 5.585949897766113, acc: none, ok: True\n",
      "layer: 2, neuron: 1, rob: 4.861977577209473, acc: none, ok: True\n",
      "changing neuron at layer: 0 index: 7\n",
      "2016/2016 [==============================] - 0s 23us/sample - loss: 0.0218 - accuracy: 0.9945\b\b\b\b\b\b\b\b\b\b\b\b\b\b\b\b\b\b\b\b\b\b\b\b\b\b\b\b\b\b\b\b\b\b\b\b\b\b\b\b\b\b\b\b\b\b\b\b\b\b\b\b\b\b\b\b\b\b\b\b\b\b\b\b\b\b\b\b\b\b\b\b\b\b\b\b\b\b\b\n",
      "current acc: 0.9945436716079712\n",
      "layer_shape: (135, 16)\n",
      "layer size: 135\n",
      "layer: 0, neuron: 1, rob: 96.97989654541016, acc: none, ok: True\n",
      "layer: 0, neuron: 3, rob: 100.46511840820312, acc: none, ok: True\n",
      "layer: 0, neuron: 5, rob: 97.23228454589844, acc: none, ok: True\n",
      "layer: 0, neuron: 6, rob: 97.40857696533203, acc: none, ok: True\n",
      "layer: 0, neuron: 10, rob: 105.21488189697266, acc: none, ok: True\n",
      "layer: 0, neuron: 11, rob: 98.94876098632812, acc: none, ok: True\n",
      "layer: 0, neuron: 13, rob: 101.74724578857422, acc: none, ok: True\n",
      "layer: 0, neuron: 14, rob: 105.28466033935547, acc: none, ok: True\n",
      "layer: 0, neuron: 15, rob: 99.98577880859375, acc: none, ok: True\n",
      "layer_shape: (16, 2)\n",
      "layer size: 16\n",
      "layer: 2, neuron: 0, rob: 5.585949897766113, acc: none, ok: True\n",
      "layer: 2, neuron: 1, rob: 4.861977577209473, acc: none, ok: True\n",
      "changing neuron at layer: 0 index: 14\n",
      "2016/2016 [==============================] - 0s 21us/sample - loss: 0.0296 - accuracy: 0.9876\b\b\b\b\b\b\b\b\b\b\b\b\b\b\b\b\b\b\b\b\b\b\b\b\b\b\b\b\b\b\b\b\b\b\b\b\b\b\b\b\b\b\b\b\b\b\b\b\b\b\b\b\b\b\b\b\b\b\b\b\b\b\b\b\b\b\b\b\b\b\b\b\b\b\b\b\b\b\b\n",
      "current acc: 0.9875991940498352\n",
      "layer_shape: (135, 16)\n",
      "layer size: 135\n",
      "layer: 0, neuron: 1, rob: 96.97989654541016, acc: none, ok: True\n",
      "layer: 0, neuron: 3, rob: 100.46511840820312, acc: none, ok: True\n",
      "layer: 0, neuron: 5, rob: 97.23228454589844, acc: none, ok: True\n",
      "layer: 0, neuron: 6, rob: 97.40857696533203, acc: none, ok: True\n",
      "layer: 0, neuron: 10, rob: 105.21488189697266, acc: none, ok: True\n",
      "layer: 0, neuron: 11, rob: 98.94876098632812, acc: none, ok: True\n",
      "layer: 0, neuron: 13, rob: 101.74724578857422, acc: none, ok: True\n",
      "layer: 0, neuron: 15, rob: 99.98577880859375, acc: none, ok: True\n",
      "layer_shape: (16, 2)\n",
      "layer size: 16\n",
      "layer: 2, neuron: 0, rob: 5.585949897766113, acc: none, ok: True\n",
      "layer: 2, neuron: 1, rob: 4.861977577209473, acc: none, ok: True\n",
      "changing neuron at layer: 0 index: 10\n",
      "2016/2016 [==============================] - 0s 23us/sample - loss: 0.0367 - accuracy: 0.9846\b\b\b\b\b\b\b\b\b\b\b\b\b\b\b\b\b\b\b\b\b\b\b\b\b\b\b\b\b\b\b\b\b\b\b\b\b\b\b\b\b\b\b\b\b\b\b\b\b\b\b\b\b\b\b\b\b\b\b\b\b\b\b\b\b\b\b\b\b\b\b\b\b\b\b\b\b\b\b\n",
      "current acc: 0.9846230149269104\n",
      "layer_shape: (135, 16)\n",
      "layer size: 135\n",
      "layer: 0, neuron: 1, rob: 96.97989654541016, acc: none, ok: True\n",
      "layer: 0, neuron: 3, rob: 100.46511840820312, acc: none, ok: True\n",
      "layer: 0, neuron: 5, rob: 97.23228454589844, acc: none, ok: True\n",
      "layer: 0, neuron: 6, rob: 97.40857696533203, acc: none, ok: True\n",
      "layer: 0, neuron: 11, rob: 98.94876098632812, acc: none, ok: True\n",
      "layer: 0, neuron: 13, rob: 101.74724578857422, acc: none, ok: True\n",
      "layer: 0, neuron: 15, rob: 99.98577880859375, acc: none, ok: True\n",
      "layer_shape: (16, 2)\n",
      "layer size: 16\n",
      "layer: 2, neuron: 0, rob: 5.585949897766113, acc: none, ok: True\n",
      "layer: 2, neuron: 1, rob: 4.861977577209473, acc: none, ok: True\n",
      "changing neuron at layer: 0 index: 13\n",
      "2016/2016 [==============================] - 0s 23us/sample - loss: 0.0362 - accuracy: 0.9846\b\b\b\b\b\b\b\b\b\b\b\b\b\b\b\b\b\b\b\b\b\b\b\b\b\b\b\b\b\b\b\b\b\b\b\b\b\b\b\b\b\b\b\b\b\b\b\b\b\b\b\b\b\b\b\b\b\b\b\b\b\b\b\b\b\b\b\b\b\b\b\b\b\b\b\b\b\b\b\n",
      "current acc: 0.9846230149269104\n",
      "layer_shape: (135, 16)\n",
      "layer size: 135\n",
      "layer: 0, neuron: 1, rob: 96.97989654541016, acc: none, ok: True\n",
      "layer: 0, neuron: 3, rob: 100.46511840820312, acc: none, ok: True\n",
      "layer: 0, neuron: 5, rob: 97.23228454589844, acc: none, ok: True\n",
      "layer: 0, neuron: 6, rob: 97.40857696533203, acc: none, ok: True\n",
      "layer: 0, neuron: 11, rob: 98.94876098632812, acc: none, ok: True\n",
      "layer: 0, neuron: 15, rob: 99.98577880859375, acc: none, ok: True\n",
      "layer_shape: (16, 2)\n",
      "layer size: 16\n",
      "layer: 2, neuron: 0, rob: 5.585949897766113, acc: none, ok: True\n",
      "layer: 2, neuron: 1, rob: 4.861977577209473, acc: none, ok: True\n",
      "changing neuron at layer: 0 index: 3\n",
      "2016/2016 [==============================] - 0s 19us/sample - loss: 0.0375 - accuracy: 0.9846\b\b\b\b\b\b\b\b\b\b\b\b\b\b\b\b\b\b\b\b\b\b\b\b\b\b\b\b\b\b\b\b\b\b\b\b\b\b\b\b\b\b\b\b\b\b\b\b\b\b\b\b\b\b\b\b\b\b\b\b\b\b\b\b\b\b\b\b\b\b\b\b\b\b\b\b\b\b\b\n",
      "current acc: 0.9846230149269104\n",
      "layer_shape: (135, 16)\n",
      "layer size: 135\n",
      "layer: 0, neuron: 1, rob: 96.97989654541016, acc: none, ok: True\n",
      "layer: 0, neuron: 5, rob: 97.23228454589844, acc: none, ok: True\n",
      "layer: 0, neuron: 6, rob: 97.40857696533203, acc: none, ok: True\n",
      "layer: 0, neuron: 11, rob: 98.94876098632812, acc: none, ok: True\n",
      "layer: 0, neuron: 15, rob: 99.98577880859375, acc: none, ok: True\n",
      "layer_shape: (16, 2)\n",
      "layer size: 16\n",
      "layer: 2, neuron: 0, rob: 5.585949897766113, acc: none, ok: True\n",
      "layer: 2, neuron: 1, rob: 4.861977577209473, acc: none, ok: True\n",
      "changing neuron at layer: 0 index: 15\n",
      "2016/2016 [==============================] - 0s 23us/sample - loss: 0.0374 - accuracy: 0.9841\b\b\b\b\b\b\b\b\b\b\b\b\b\b\b\b\b\b\b\b\b\b\b\b\b\b\b\b\b\b\b\b\b\b\b\b\b\b\b\b\b\b\b\b\b\b\b\b\b\b\b\b\b\b\b\b\b\b\b\b\b\b\b\b\b\b\b\b\b\b\b\b\b\b\b\b\b\b\b\n",
      "current acc: 0.9841269850730896\n",
      "layer_shape: (135, 16)\n",
      "layer size: 135\n",
      "layer: 0, neuron: 1, rob: 96.97989654541016, acc: none, ok: True\n",
      "layer: 0, neuron: 5, rob: 97.23228454589844, acc: none, ok: True\n",
      "layer: 0, neuron: 6, rob: 97.40857696533203, acc: none, ok: True\n",
      "layer: 0, neuron: 11, rob: 98.94876098632812, acc: none, ok: True\n",
      "layer_shape: (16, 2)\n",
      "layer size: 16\n",
      "layer: 2, neuron: 0, rob: 5.585949897766113, acc: none, ok: True\n",
      "layer: 2, neuron: 1, rob: 4.861977577209473, acc: none, ok: True\n",
      "changing neuron at layer: 0 index: 11\n",
      "2016/2016 [==============================] - 0s 24us/sample - loss: 0.0525 - accuracy: 0.9782\b\b\b\b\b\b\b\b\b\b\b\b\b\b\b\b\b\b\b\b\b\b\b\b\b\b\b\b\b\b\b\b\b\b\b\b\b\b\b\b\b\b\b\b\b\b\b\b\b\b\b\b\b\b\b\b\b\b\b\b\b\b\b\b\b\b\b\b\b\b\b\b\b\b\b\b\b\b\b\n",
      "current acc: 0.97817462682724\n",
      "layer_shape: (135, 16)\n",
      "layer size: 135\n",
      "layer: 0, neuron: 1, rob: 96.97989654541016, acc: none, ok: True\n",
      "layer: 0, neuron: 5, rob: 97.23228454589844, acc: none, ok: True\n",
      "layer: 0, neuron: 6, rob: 97.40857696533203, acc: none, ok: True\n",
      "layer_shape: (16, 2)\n",
      "layer size: 16\n",
      "layer: 2, neuron: 0, rob: 5.585949897766113, acc: none, ok: True\n",
      "layer: 2, neuron: 1, rob: 4.861977577209473, acc: none, ok: True\n",
      "changing neuron at layer: 0 index: 6\n",
      "2016/2016 [==============================] - 0s 28us/sample - loss: 0.0539 - accuracy: 0.9777\b\b\b\b\b\b\b\b\b\b\b\b\b\b\b\b\b\b\b\b\b\b\b\b\b\b\b\b\b\b\b\b\b\b\b\b\b\b\b\b\b\b\b\b\b\b\b\b\b\b\b\b\b\b\b\b\b\b\b\b\b\b\b\b\b\b\b\b\b\b\b\b\b\b\b\b\b\b\b\b\b\b\b\b\b\b\b\b\b\b\b\b\b\b\b\b\b\b\b\b\b\b\b\b\b\b\b\b\b\b\b\b\b\b\b\b\b\b\b\b\b\b\b\b\b\b\b\b\b\b\b\b\b\b\b\b\b\b\b\b\b\b\b\b\b\b\b\b\b\b\b\b\b\b\b\b\b\b\b\b\b\b\b\b\b\n",
      "current acc: 0.9776785969734192\n",
      "layer_shape: (135, 16)\n",
      "layer size: 135\n",
      "layer: 0, neuron: 1, rob: 96.97989654541016, acc: none, ok: True\n",
      "layer: 0, neuron: 5, rob: 97.23228454589844, acc: none, ok: True\n",
      "layer_shape: (16, 2)\n",
      "layer size: 16\n",
      "layer: 2, neuron: 0, rob: 5.585949897766113, acc: none, ok: True\n",
      "layer: 2, neuron: 1, rob: 4.861977577209473, acc: none, ok: True\n",
      "changing neuron at layer: 0 index: 5\n",
      "2016/2016 [==============================] - 0s 25us/sample - loss: 0.0603 - accuracy: 0.9762\b\b\b\b\b\b\b\b\b\b\b\b\b\b\b\b\b\b\b\b\b\b\b\b\b\b\b\b\b\b\b\b\b\b\b\b\b\b\b\b\b\b\b\b\b\b\b\b\b\b\b\b\b\b\b\b\b\b\b\b\b\b\b\b\b\b\b\b\b\b\b\b\b\b\b\b\b\b\b\n",
      "current acc: 0.976190447807312\n",
      "layer_shape: (135, 16)\n",
      "layer size: 135\n",
      "layer: 0, neuron: 1, rob: 96.97989654541016, acc: none, ok: True\n",
      "layer_shape: (16, 2)\n",
      "layer size: 16\n",
      "layer: 2, neuron: 0, rob: 5.585949897766113, acc: none, ok: True\n",
      "layer: 2, neuron: 1, rob: 4.861977577209473, acc: none, ok: True\n",
      "changing neuron at layer: 0 index: 1\n",
      "2016/2016 [==============================] - 0s 32us/sample - loss: 0.1073 - accuracy: 0.9430\b\b\b\b\b\b\b\b\b\b\b\b\b\b\b\b\b\b\b\b\b\b\b\b\b\b\b\b\b\b\b\b\b\b\b\b\b\b\b\b\b\b\b\b\b\b\b\b\b\b\b\b\b\b\b\b\b\b\b\b\b\b\b\b\b\b\b\b\b\b\b\b\b\b\b\b\b\b\b\b\b\b\b\b\b\b\b\b\b\b\b\b\b\b\b\b\b\b\b\b\b\b\b\b\b\b\b\b\b\b\b\b\b\b\b\b\b\b\b\b\b\b\b\b\b\b\b\b\b\b\b\b\b\b\b\b\b\b\b\b\b\b\b\b\b\b\b\b\b\b\b\b\b\b\b\b\b\b\b\b\b\b\b\b\b\n",
      "current acc: 0.9429563283920288\n",
      "layer_shape: (135, 16)\n",
      "layer size: 135\n",
      "layer_shape: (16, 2)\n",
      "layer size: 16\n",
      "layer: 2, neuron: 0, rob: 5.585949897766113, acc: none, ok: True\n",
      "layer: 2, neuron: 1, rob: 4.861977577209473, acc: none, ok: True\n",
      "changing neuron at layer: 2 index: 0\n",
      "2016/2016 [==============================] - 0s 26us/sample - loss: 0.0814 - accuracy: 0.9509\b\b\b\b\b\b\b\b\b\b\b\b\b\b\b\b\b\b\b\b\b\b\b\b\b\b\b\b\b\b\b\b\b\b\b\b\b\b\b\b\b\b\b\b\b\b\b\b\b\b\b\b\b\b\b\b\b\b\b\b\b\b\b\b\b\b\b\b\b\b\b\b\b\b\b\b\b\b\b\n",
      "current acc: 0.9508928656578064\n",
      "layer_shape: (135, 16)\n",
      "layer size: 135\n",
      "layer_shape: (16, 2)\n",
      "layer size: 16\n",
      "layer: 2, neuron: 1, rob: 4.861977577209473, acc: none, ok: True\n",
      "changing neuron at layer: 2 index: 1\n",
      "2016/2016 [==============================] - 0s 33us/sample - loss: 0.0740 - accuracy: 0.9797\b\b\b\b\b\b\b\b\b\b\b\b\b\b\b\b\b\b\b\b\b\b\b\b\b\b\b\b\b\b\b\b\b\b\b\b\b\b\b\b\b\b\b\b\b\b\b\b\b\b\b\b\b\b\b\b\b\b\b\b\b\b\b\b\b\b\b\b\b\b\b\b\b\b\b\b\b\b\b\b\b\b\b\b\b\b\b\b\b\b\b\b\b\b\b\b\b\b\b\b\b\b\b\b\b\b\b\b\b\b\b\b\b\b\b\b\b\b\b\b\b\b\b\b\b\b\b\b\b\b\b\b\b\b\b\b\b\b\b\b\b\b\b\b\b\b\b\b\b\b\b\b\b\b\b\b\b\b\b\b\b\b\b\b\b\n",
      "current acc: 0.9796627163887024\n",
      "layer_shape: (135, 16)\n",
      "layer size: 135\n",
      "layer_shape: (16, 2)\n",
      "layer size: 16\n"
     ]
    }
   ],
   "source": [
    "from src.stabilization import stabilize_some_l1\n",
    "\n",
    "print(\"doing the stabilize\")\n",
    "new_model = stabilize_some_l1(model, x_test, y_test, allowed_layers=(0, 2), thresh=0.9, no_accuracy=True)"
   ],
   "metadata": {
    "collapsed": false,
    "pycharm": {
     "name": "#%%\n"
    }
   }
  },
  {
   "cell_type": "code",
   "execution_count": 7,
   "outputs": [
    {
     "name": "stdout",
     "output_type": "stream",
     "text": [
      "2016/2016 [==============================] - 0s 25us/sample - loss: 0.0475 - accuracy: 0.9836\b\b\b\b\b\b\b\b\b\b\b\b\b\b\b\b\b\b\b\b\b\b\b\b\b\b\b\b\b\b\b\b\b\b\b\b\b\b\b\b\b\b\b\b\b\b\b\b\b\b\b\b\b\b\b\b\b\b\b\b\b\b\b\b\b\b\b\b\b\b\b\b\b\b\b\b\b\b\b\n"
     ]
    },
    {
     "data": {
      "text/plain": "[0.047513851175031124, 0.98363096]"
     },
     "execution_count": 7,
     "metadata": {},
     "output_type": "execute_result"
    }
   ],
   "source": [
    "new_model.evaluate(x_test, y_test)"
   ],
   "metadata": {
    "collapsed": false,
    "pycharm": {
     "name": "#%%\n"
    }
   }
  },
  {
   "cell_type": "code",
   "execution_count": 5,
   "outputs": [
    {
     "name": "stdout",
     "output_type": "stream",
     "text": [
      "tf.Tensor(\n",
      "[0.36239436 0.24881794 0.46349615 0.2689652  0.40569815 0.2417419\n",
      " 0.25206894 0.32469407 0.37254184 0.33332732 0.3065512  0.25134656\n",
      " 0.39579377 0.2658677  0.30822107 0.26179138], shape=(16,), dtype=float32)\n"
     ]
    }
   ],
   "source": [
    "layer_weights = model.get_weights()[0]\n",
    "\n",
    "l_inf_norms = tf.norm(layer_weights, ord=np.inf, axis=0)\n",
    "# l1_norms = tf.norm(layer_weights, ord=1, axis=0)\n",
    "l2_norms = tf.norm(layer_weights, ord=2, axis=0)\n",
    "\n",
    "epsilons = l_inf_norms / l2_norms\n",
    "\n",
    "print(epsilons)"
   ],
   "metadata": {
    "collapsed": false,
    "pycharm": {
     "name": "#%%\n"
    }
   }
  },
  {
   "cell_type": "code",
   "execution_count": 6,
   "outputs": [],
   "source": [
    "epsilons_list = list(epsilons.numpy())\n",
    "\n",
    "epsilons_and_indices = [(eps, index) for index, eps in enumerate(epsilons_list)]\n",
    "\n",
    "# sort in increasing order of epsilons\n",
    "epsilons_and_indices.sort(key=lambda x: x[0], reverse=True)\n",
    "\n",
    "order_of_indices = [x[1] for x in epsilons_and_indices]"
   ],
   "metadata": {
    "collapsed": false,
    "pycharm": {
     "name": "#%%\n"
    }
   }
  },
  {
   "cell_type": "code",
   "execution_count": 7,
   "outputs": [],
   "source": [
    "# Set up the attack we are going to run below\n",
    "from src.attacks import l0_multiclass_attack\n",
    "\n",
    "np.random.seed(1)\n",
    "sample_size = 100\n",
    "test_indices = np.random.choice(x_test.shape[0], size=sample_size, replace=False)\n",
    "\n",
    "num_classes = np.amax(y_test) + 1\n",
    "\n",
    "\n",
    "def run_attack():\n",
    "    def run_attack_for_index(test_index):\n",
    "        current_class = int(y_test[test_index])\n",
    "        x0 = x_test[test_index]\n",
    "\n",
    "        norm, _ = l0_multiclass_attack(x0, current_class, num_classes, model, change_at_once=1)\n",
    "        return norm\n",
    "\n",
    "    return [run_attack_for_index(index) for index in test_indices]"
   ],
   "metadata": {
    "collapsed": false,
    "pycharm": {
     "name": "#%%\n"
    }
   }
  },
  {
   "cell_type": "code",
   "execution_count": 8,
   "outputs": [
    {
     "name": "stdout",
     "output_type": "stream",
     "text": [
      "2016/2016 - 0s - loss: 0.0064 - accuracy: 0.9995\n",
      "0.46349615\n",
      "2016/2016 - 0s - loss: 0.0075 - accuracy: 0.9985\n",
      "[[6, 6, 8, 2, 6, 6, 6, 6, 6, 6, 2, 4, 4, 4, 8, 6, 4, 4, 6, 6, 6, 6, 6, 2, 6, 4, 2, 6, 8, 6, 4, 6, 10, 4, 4, 6, 2, 8, 4, 6, 8, 6, 6, 6, 6, 6, 6, 6, 4, 2, 4, 8, 4, 4, 2, 6, 6, 6, 6, 4, 4, 4, 10, 2, 8, 2, 6, 6, 6, 6, 4, 6, 6, 4, 6, 6, 10, 6, 4, 4, 6, 6, 6, 6, 6, 6, 4, 4, 4, 6, 6, 6, 6, 8, 4, 6, 4, 6, 6, 6], [8, 6, 10, 2, 4, 4, 4, 6, 4, 4, 4, 4, 4, 4, 8, 4, 4, 4, 4, 4, 6, 4, 6, 2, 4, 4, 2, 4, 10, 6, 4, 4, 10, 4, 4, 4, 4, 10, 6, 6, 8, 6, 4, 6, 4, 6, 4, 4, 4, 2, 4, 10, 4, 4, 4, 4, 6, 4, 6, 4, 6, 4, 12, 2, 10, 2, 6, 6, 6, 4, 4, 8, 6, 4, 4, 4, 10, 4, 4, 4, 6, 4, 4, 4, 4, 8, 6, 4, 4, 4, 6, 4, 6, 8, 6, 4, 6, 4, 4, 6]]\n",
      "0.40569815\n",
      "2016/2016 - 0s - loss: 0.0073 - accuracy: 0.9980\n",
      "[[6, 6, 8, 2, 6, 6, 6, 6, 6, 6, 2, 4, 4, 4, 8, 6, 4, 4, 6, 6, 6, 6, 6, 2, 6, 4, 2, 6, 8, 6, 4, 6, 10, 4, 4, 6, 2, 8, 4, 6, 8, 6, 6, 6, 6, 6, 6, 6, 4, 2, 4, 8, 4, 4, 2, 6, 6, 6, 6, 4, 4, 4, 10, 2, 8, 2, 6, 6, 6, 6, 4, 6, 6, 4, 6, 6, 10, 6, 4, 4, 6, 6, 6, 6, 6, 6, 4, 4, 4, 6, 6, 6, 6, 8, 4, 6, 4, 6, 6, 6], [8, 6, 10, 2, 4, 4, 4, 6, 4, 4, 4, 4, 4, 4, 8, 4, 4, 4, 4, 4, 6, 4, 6, 2, 4, 4, 2, 4, 10, 6, 4, 4, 10, 4, 4, 4, 4, 10, 6, 6, 8, 6, 4, 6, 4, 6, 4, 4, 4, 2, 4, 10, 4, 4, 4, 4, 6, 4, 6, 4, 6, 4, 12, 2, 10, 2, 6, 6, 6, 4, 4, 8, 6, 4, 4, 4, 10, 4, 4, 4, 6, 4, 4, 4, 4, 8, 6, 4, 4, 4, 6, 4, 6, 8, 6, 4, 6, 4, 4, 6], [8, 6, 10, 2, 4, 4, 4, 6, 4, 4, 4, 4, 6, 4, 10, 4, 4, 6, 4, 4, 8, 4, 6, 2, 4, 4, 0, 4, 10, 6, 4, 4, 10, 4, 6, 6, 4, 10, 6, 6, 8, 6, 4, 6, 4, 6, 4, 4, 6, 2, 4, 10, 6, 4, 4, 4, 6, 4, 6, 6, 6, 6, 12, 4, 10, 2, 6, 6, 6, 4, 4, 8, 8, 4, 4, 4, 10, 4, 4, 4, 8, 4, 4, 4, 4, 8, 6, 2, 4, 4, 6, 4, 6, 8, 6, 4, 6, 4, 4, 6]]\n",
      "0.39579377\n",
      "2016/2016 - 0s - loss: 0.0082 - accuracy: 0.9990\n",
      "[[6, 6, 8, 2, 6, 6, 6, 6, 6, 6, 2, 4, 4, 4, 8, 6, 4, 4, 6, 6, 6, 6, 6, 2, 6, 4, 2, 6, 8, 6, 4, 6, 10, 4, 4, 6, 2, 8, 4, 6, 8, 6, 6, 6, 6, 6, 6, 6, 4, 2, 4, 8, 4, 4, 2, 6, 6, 6, 6, 4, 4, 4, 10, 2, 8, 2, 6, 6, 6, 6, 4, 6, 6, 4, 6, 6, 10, 6, 4, 4, 6, 6, 6, 6, 6, 6, 4, 4, 4, 6, 6, 6, 6, 8, 4, 6, 4, 6, 6, 6], [8, 6, 10, 2, 4, 4, 4, 6, 4, 4, 4, 4, 4, 4, 8, 4, 4, 4, 4, 4, 6, 4, 6, 2, 4, 4, 2, 4, 10, 6, 4, 4, 10, 4, 4, 4, 4, 10, 6, 6, 8, 6, 4, 6, 4, 6, 4, 4, 4, 2, 4, 10, 4, 4, 4, 4, 6, 4, 6, 4, 6, 4, 12, 2, 10, 2, 6, 6, 6, 4, 4, 8, 6, 4, 4, 4, 10, 4, 4, 4, 6, 4, 4, 4, 4, 8, 6, 4, 4, 4, 6, 4, 6, 8, 6, 4, 6, 4, 4, 6], [8, 6, 10, 2, 4, 4, 4, 6, 4, 4, 4, 4, 6, 4, 10, 4, 4, 6, 4, 4, 8, 4, 6, 2, 4, 4, 0, 4, 10, 6, 4, 4, 10, 4, 6, 6, 4, 10, 6, 6, 8, 6, 4, 6, 4, 6, 4, 4, 6, 2, 4, 10, 6, 4, 4, 4, 6, 4, 6, 6, 6, 6, 12, 4, 10, 2, 6, 6, 6, 4, 4, 8, 8, 4, 4, 4, 10, 4, 4, 4, 8, 4, 4, 4, 4, 8, 6, 2, 4, 4, 6, 4, 6, 8, 6, 4, 6, 4, 4, 6], [10, 6, 10, 2, 6, 6, 6, 8, 6, 6, 4, 6, 4, 4, 10, 6, 4, 4, 6, 6, 8, 6, 8, 2, 6, 4, 0, 6, 12, 8, 4, 6, 12, 4, 4, 6, 6, 12, 6, 8, 10, 8, 6, 8, 6, 8, 6, 6, 6, 2, 4, 12, 4, 4, 4, 6, 8, 6, 8, 6, 8, 6, 14, 4, 12, 2, 8, 8, 6, 6, 4, 8, 8, 4, 6, 6, 10, 6, 6, 4, 8, 6, 6, 6, 6, 8, 6, 2, 4, 6, 8, 6, 8, 8, 6, 6, 6, 6, 6, 8]]\n",
      "0.37254184\n",
      "2016/2016 - 0s - loss: 0.0106 - accuracy: 0.9985\n",
      "[[6, 6, 8, 2, 6, 6, 6, 6, 6, 6, 2, 4, 4, 4, 8, 6, 4, 4, 6, 6, 6, 6, 6, 2, 6, 4, 2, 6, 8, 6, 4, 6, 10, 4, 4, 6, 2, 8, 4, 6, 8, 6, 6, 6, 6, 6, 6, 6, 4, 2, 4, 8, 4, 4, 2, 6, 6, 6, 6, 4, 4, 4, 10, 2, 8, 2, 6, 6, 6, 6, 4, 6, 6, 4, 6, 6, 10, 6, 4, 4, 6, 6, 6, 6, 6, 6, 4, 4, 4, 6, 6, 6, 6, 8, 4, 6, 4, 6, 6, 6], [8, 6, 10, 2, 4, 4, 4, 6, 4, 4, 4, 4, 4, 4, 8, 4, 4, 4, 4, 4, 6, 4, 6, 2, 4, 4, 2, 4, 10, 6, 4, 4, 10, 4, 4, 4, 4, 10, 6, 6, 8, 6, 4, 6, 4, 6, 4, 4, 4, 2, 4, 10, 4, 4, 4, 4, 6, 4, 6, 4, 6, 4, 12, 2, 10, 2, 6, 6, 6, 4, 4, 8, 6, 4, 4, 4, 10, 4, 4, 4, 6, 4, 4, 4, 4, 8, 6, 4, 4, 4, 6, 4, 6, 8, 6, 4, 6, 4, 4, 6], [8, 6, 10, 2, 4, 4, 4, 6, 4, 4, 4, 4, 6, 4, 10, 4, 4, 6, 4, 4, 8, 4, 6, 2, 4, 4, 0, 4, 10, 6, 4, 4, 10, 4, 6, 6, 4, 10, 6, 6, 8, 6, 4, 6, 4, 6, 4, 4, 6, 2, 4, 10, 6, 4, 4, 4, 6, 4, 6, 6, 6, 6, 12, 4, 10, 2, 6, 6, 6, 4, 4, 8, 8, 4, 4, 4, 10, 4, 4, 4, 8, 4, 4, 4, 4, 8, 6, 2, 4, 4, 6, 4, 6, 8, 6, 4, 6, 4, 4, 6], [10, 6, 10, 2, 6, 6, 6, 8, 6, 6, 4, 6, 4, 4, 10, 6, 4, 4, 6, 6, 8, 6, 8, 2, 6, 4, 0, 6, 12, 8, 4, 6, 12, 4, 4, 6, 6, 12, 6, 8, 10, 8, 6, 8, 6, 8, 6, 6, 6, 2, 4, 12, 4, 4, 4, 6, 8, 6, 8, 6, 8, 6, 14, 4, 12, 2, 8, 8, 6, 6, 4, 8, 8, 4, 6, 6, 10, 6, 6, 4, 8, 6, 6, 6, 6, 8, 6, 2, 4, 6, 8, 6, 8, 8, 6, 6, 6, 6, 6, 8], [12, 6, 10, 2, 6, 6, 6, 8, 6, 6, 4, 6, 4, 4, 10, 6, 6, 4, 6, 6, 10, 6, 8, 4, 6, 4, 0, 6, 14, 6, 4, 6, 10, 2, 4, 6, 4, 12, 6, 8, 10, 8, 6, 6, 6, 8, 6, 6, 6, 2, 4, 14, 4, 6, 4, 6, 8, 6, 8, 6, 6, 6, 12, 4, 14, 2, 8, 8, 8, 6, 4, 10, 8, 2, 6, 6, 12, 6, 4, 4, 8, 6, 6, 6, 6, 10, 6, 4, 4, 6, 8, 6, 8, 8, 6, 6, 6, 6, 6, 8]]\n",
      "0.36239436\n",
      "2016/2016 - 0s - loss: 0.0148 - accuracy: 0.9960\n",
      "[[6, 6, 8, 2, 6, 6, 6, 6, 6, 6, 2, 4, 4, 4, 8, 6, 4, 4, 6, 6, 6, 6, 6, 2, 6, 4, 2, 6, 8, 6, 4, 6, 10, 4, 4, 6, 2, 8, 4, 6, 8, 6, 6, 6, 6, 6, 6, 6, 4, 2, 4, 8, 4, 4, 2, 6, 6, 6, 6, 4, 4, 4, 10, 2, 8, 2, 6, 6, 6, 6, 4, 6, 6, 4, 6, 6, 10, 6, 4, 4, 6, 6, 6, 6, 6, 6, 4, 4, 4, 6, 6, 6, 6, 8, 4, 6, 4, 6, 6, 6], [8, 6, 10, 2, 4, 4, 4, 6, 4, 4, 4, 4, 4, 4, 8, 4, 4, 4, 4, 4, 6, 4, 6, 2, 4, 4, 2, 4, 10, 6, 4, 4, 10, 4, 4, 4, 4, 10, 6, 6, 8, 6, 4, 6, 4, 6, 4, 4, 4, 2, 4, 10, 4, 4, 4, 4, 6, 4, 6, 4, 6, 4, 12, 2, 10, 2, 6, 6, 6, 4, 4, 8, 6, 4, 4, 4, 10, 4, 4, 4, 6, 4, 4, 4, 4, 8, 6, 4, 4, 4, 6, 4, 6, 8, 6, 4, 6, 4, 4, 6], [8, 6, 10, 2, 4, 4, 4, 6, 4, 4, 4, 4, 6, 4, 10, 4, 4, 6, 4, 4, 8, 4, 6, 2, 4, 4, 0, 4, 10, 6, 4, 4, 10, 4, 6, 6, 4, 10, 6, 6, 8, 6, 4, 6, 4, 6, 4, 4, 6, 2, 4, 10, 6, 4, 4, 4, 6, 4, 6, 6, 6, 6, 12, 4, 10, 2, 6, 6, 6, 4, 4, 8, 8, 4, 4, 4, 10, 4, 4, 4, 8, 4, 4, 4, 4, 8, 6, 2, 4, 4, 6, 4, 6, 8, 6, 4, 6, 4, 4, 6], [10, 6, 10, 2, 6, 6, 6, 8, 6, 6, 4, 6, 4, 4, 10, 6, 4, 4, 6, 6, 8, 6, 8, 2, 6, 4, 0, 6, 12, 8, 4, 6, 12, 4, 4, 6, 6, 12, 6, 8, 10, 8, 6, 8, 6, 8, 6, 6, 6, 2, 4, 12, 4, 4, 4, 6, 8, 6, 8, 6, 8, 6, 14, 4, 12, 2, 8, 8, 6, 6, 4, 8, 8, 4, 6, 6, 10, 6, 6, 4, 8, 6, 6, 6, 6, 8, 6, 2, 4, 6, 8, 6, 8, 8, 6, 6, 6, 6, 6, 8], [12, 6, 10, 2, 6, 6, 6, 8, 6, 6, 4, 6, 4, 4, 10, 6, 6, 4, 6, 6, 10, 6, 8, 4, 6, 4, 0, 6, 14, 6, 4, 6, 10, 2, 4, 6, 4, 12, 6, 8, 10, 8, 6, 6, 6, 8, 6, 6, 6, 2, 4, 14, 4, 6, 4, 6, 8, 6, 8, 6, 6, 6, 12, 4, 14, 2, 8, 8, 8, 6, 4, 10, 8, 2, 6, 6, 12, 6, 4, 4, 8, 6, 6, 6, 6, 10, 6, 4, 4, 6, 8, 6, 8, 8, 6, 6, 6, 6, 6, 8], [12, 6, 10, 0, 6, 6, 6, 8, 6, 6, 4, 6, 6, 4, 10, 6, 6, 6, 6, 6, 10, 6, 8, 4, 6, 4, 0, 6, 14, 6, 4, 6, 10, 4, 6, 6, 4, 12, 6, 8, 10, 8, 6, 6, 6, 8, 6, 6, 6, 2, 4, 14, 6, 6, 4, 6, 8, 6, 8, 6, 6, 6, 12, 4, 14, 2, 8, 8, 8, 6, 4, 10, 8, 4, 6, 6, 12, 6, 4, 4, 8, 6, 6, 6, 6, 10, 6, 4, 4, 6, 8, 6, 10, 8, 8, 6, 8, 6, 6, 8]]\n",
      "0.33332732\n",
      "2016/2016 - 0s - loss: 0.0162 - accuracy: 0.9955\n",
      "[[6, 6, 8, 2, 6, 6, 6, 6, 6, 6, 2, 4, 4, 4, 8, 6, 4, 4, 6, 6, 6, 6, 6, 2, 6, 4, 2, 6, 8, 6, 4, 6, 10, 4, 4, 6, 2, 8, 4, 6, 8, 6, 6, 6, 6, 6, 6, 6, 4, 2, 4, 8, 4, 4, 2, 6, 6, 6, 6, 4, 4, 4, 10, 2, 8, 2, 6, 6, 6, 6, 4, 6, 6, 4, 6, 6, 10, 6, 4, 4, 6, 6, 6, 6, 6, 6, 4, 4, 4, 6, 6, 6, 6, 8, 4, 6, 4, 6, 6, 6], [8, 6, 10, 2, 4, 4, 4, 6, 4, 4, 4, 4, 4, 4, 8, 4, 4, 4, 4, 4, 6, 4, 6, 2, 4, 4, 2, 4, 10, 6, 4, 4, 10, 4, 4, 4, 4, 10, 6, 6, 8, 6, 4, 6, 4, 6, 4, 4, 4, 2, 4, 10, 4, 4, 4, 4, 6, 4, 6, 4, 6, 4, 12, 2, 10, 2, 6, 6, 6, 4, 4, 8, 6, 4, 4, 4, 10, 4, 4, 4, 6, 4, 4, 4, 4, 8, 6, 4, 4, 4, 6, 4, 6, 8, 6, 4, 6, 4, 4, 6], [8, 6, 10, 2, 4, 4, 4, 6, 4, 4, 4, 4, 6, 4, 10, 4, 4, 6, 4, 4, 8, 4, 6, 2, 4, 4, 0, 4, 10, 6, 4, 4, 10, 4, 6, 6, 4, 10, 6, 6, 8, 6, 4, 6, 4, 6, 4, 4, 6, 2, 4, 10, 6, 4, 4, 4, 6, 4, 6, 6, 6, 6, 12, 4, 10, 2, 6, 6, 6, 4, 4, 8, 8, 4, 4, 4, 10, 4, 4, 4, 8, 4, 4, 4, 4, 8, 6, 2, 4, 4, 6, 4, 6, 8, 6, 4, 6, 4, 4, 6], [10, 6, 10, 2, 6, 6, 6, 8, 6, 6, 4, 6, 4, 4, 10, 6, 4, 4, 6, 6, 8, 6, 8, 2, 6, 4, 0, 6, 12, 8, 4, 6, 12, 4, 4, 6, 6, 12, 6, 8, 10, 8, 6, 8, 6, 8, 6, 6, 6, 2, 4, 12, 4, 4, 4, 6, 8, 6, 8, 6, 8, 6, 14, 4, 12, 2, 8, 8, 6, 6, 4, 8, 8, 4, 6, 6, 10, 6, 6, 4, 8, 6, 6, 6, 6, 8, 6, 2, 4, 6, 8, 6, 8, 8, 6, 6, 6, 6, 6, 8], [12, 6, 10, 2, 6, 6, 6, 8, 6, 6, 4, 6, 4, 4, 10, 6, 6, 4, 6, 6, 10, 6, 8, 4, 6, 4, 0, 6, 14, 6, 4, 6, 10, 2, 4, 6, 4, 12, 6, 8, 10, 8, 6, 6, 6, 8, 6, 6, 6, 2, 4, 14, 4, 6, 4, 6, 8, 6, 8, 6, 6, 6, 12, 4, 14, 2, 8, 8, 8, 6, 4, 10, 8, 2, 6, 6, 12, 6, 4, 4, 8, 6, 6, 6, 6, 10, 6, 4, 4, 6, 8, 6, 8, 8, 6, 6, 6, 6, 6, 8], [12, 6, 10, 0, 6, 6, 6, 8, 6, 6, 4, 6, 6, 4, 10, 6, 6, 6, 6, 6, 10, 6, 8, 4, 6, 4, 0, 6, 14, 6, 4, 6, 10, 4, 6, 6, 4, 12, 6, 8, 10, 8, 6, 6, 6, 8, 6, 6, 6, 2, 4, 14, 6, 6, 4, 6, 8, 6, 8, 6, 6, 6, 12, 4, 14, 2, 8, 8, 8, 6, 4, 10, 8, 4, 6, 6, 12, 6, 4, 4, 8, 6, 6, 6, 6, 10, 6, 4, 4, 6, 8, 6, 10, 8, 8, 6, 8, 6, 6, 8], [12, 6, 10, 0, 6, 6, 6, 8, 6, 6, 4, 6, 6, 4, 10, 6, 6, 6, 6, 6, 10, 6, 8, 4, 6, 4, 0, 6, 14, 6, 4, 6, 10, 2, 6, 8, 6, 12, 6, 8, 10, 8, 6, 6, 6, 8, 6, 6, 6, 2, 4, 14, 6, 6, 4, 6, 8, 6, 8, 6, 8, 6, 12, 4, 14, 2, 8, 8, 8, 6, 4, 10, 10, 2, 6, 6, 12, 6, 6, 4, 10, 6, 6, 6, 6, 10, 6, 2, 4, 6, 8, 6, 10, 8, 8, 6, 8, 6, 6, 8]]\n",
      "0.32469407\n",
      "2016/2016 - 0s - loss: 0.0218 - accuracy: 0.9945\n",
      "[[6, 6, 8, 2, 6, 6, 6, 6, 6, 6, 2, 4, 4, 4, 8, 6, 4, 4, 6, 6, 6, 6, 6, 2, 6, 4, 2, 6, 8, 6, 4, 6, 10, 4, 4, 6, 2, 8, 4, 6, 8, 6, 6, 6, 6, 6, 6, 6, 4, 2, 4, 8, 4, 4, 2, 6, 6, 6, 6, 4, 4, 4, 10, 2, 8, 2, 6, 6, 6, 6, 4, 6, 6, 4, 6, 6, 10, 6, 4, 4, 6, 6, 6, 6, 6, 6, 4, 4, 4, 6, 6, 6, 6, 8, 4, 6, 4, 6, 6, 6], [8, 6, 10, 2, 4, 4, 4, 6, 4, 4, 4, 4, 4, 4, 8, 4, 4, 4, 4, 4, 6, 4, 6, 2, 4, 4, 2, 4, 10, 6, 4, 4, 10, 4, 4, 4, 4, 10, 6, 6, 8, 6, 4, 6, 4, 6, 4, 4, 4, 2, 4, 10, 4, 4, 4, 4, 6, 4, 6, 4, 6, 4, 12, 2, 10, 2, 6, 6, 6, 4, 4, 8, 6, 4, 4, 4, 10, 4, 4, 4, 6, 4, 4, 4, 4, 8, 6, 4, 4, 4, 6, 4, 6, 8, 6, 4, 6, 4, 4, 6], [8, 6, 10, 2, 4, 4, 4, 6, 4, 4, 4, 4, 6, 4, 10, 4, 4, 6, 4, 4, 8, 4, 6, 2, 4, 4, 0, 4, 10, 6, 4, 4, 10, 4, 6, 6, 4, 10, 6, 6, 8, 6, 4, 6, 4, 6, 4, 4, 6, 2, 4, 10, 6, 4, 4, 4, 6, 4, 6, 6, 6, 6, 12, 4, 10, 2, 6, 6, 6, 4, 4, 8, 8, 4, 4, 4, 10, 4, 4, 4, 8, 4, 4, 4, 4, 8, 6, 2, 4, 4, 6, 4, 6, 8, 6, 4, 6, 4, 4, 6], [10, 6, 10, 2, 6, 6, 6, 8, 6, 6, 4, 6, 4, 4, 10, 6, 4, 4, 6, 6, 8, 6, 8, 2, 6, 4, 0, 6, 12, 8, 4, 6, 12, 4, 4, 6, 6, 12, 6, 8, 10, 8, 6, 8, 6, 8, 6, 6, 6, 2, 4, 12, 4, 4, 4, 6, 8, 6, 8, 6, 8, 6, 14, 4, 12, 2, 8, 8, 6, 6, 4, 8, 8, 4, 6, 6, 10, 6, 6, 4, 8, 6, 6, 6, 6, 8, 6, 2, 4, 6, 8, 6, 8, 8, 6, 6, 6, 6, 6, 8], [12, 6, 10, 2, 6, 6, 6, 8, 6, 6, 4, 6, 4, 4, 10, 6, 6, 4, 6, 6, 10, 6, 8, 4, 6, 4, 0, 6, 14, 6, 4, 6, 10, 2, 4, 6, 4, 12, 6, 8, 10, 8, 6, 6, 6, 8, 6, 6, 6, 2, 4, 14, 4, 6, 4, 6, 8, 6, 8, 6, 6, 6, 12, 4, 14, 2, 8, 8, 8, 6, 4, 10, 8, 2, 6, 6, 12, 6, 4, 4, 8, 6, 6, 6, 6, 10, 6, 4, 4, 6, 8, 6, 8, 8, 6, 6, 6, 6, 6, 8], [12, 6, 10, 0, 6, 6, 6, 8, 6, 6, 4, 6, 6, 4, 10, 6, 6, 6, 6, 6, 10, 6, 8, 4, 6, 4, 0, 6, 14, 6, 4, 6, 10, 4, 6, 6, 4, 12, 6, 8, 10, 8, 6, 6, 6, 8, 6, 6, 6, 2, 4, 14, 6, 6, 4, 6, 8, 6, 8, 6, 6, 6, 12, 4, 14, 2, 8, 8, 8, 6, 4, 10, 8, 4, 6, 6, 12, 6, 4, 4, 8, 6, 6, 6, 6, 10, 6, 4, 4, 6, 8, 6, 10, 8, 8, 6, 8, 6, 6, 8], [12, 6, 10, 0, 6, 6, 6, 8, 6, 6, 4, 6, 6, 4, 10, 6, 6, 6, 6, 6, 10, 6, 8, 4, 6, 4, 0, 6, 14, 6, 4, 6, 10, 2, 6, 8, 6, 12, 6, 8, 10, 8, 6, 6, 6, 8, 6, 6, 6, 2, 4, 14, 6, 6, 4, 6, 8, 6, 8, 6, 8, 6, 12, 4, 14, 2, 8, 8, 8, 6, 4, 10, 10, 2, 6, 6, 12, 6, 6, 4, 10, 6, 6, 6, 6, 10, 6, 2, 4, 6, 8, 6, 10, 8, 8, 6, 8, 6, 6, 8], [12, 6, 26, 0, 6, 6, 6, 8, 6, 6, 4, 6, 6, 4, 10, 6, 6, 6, 6, 6, 10, 6, 8, 4, 6, 4, 0, 6, 14, 6, 4, 6, 24, 2, 6, 6, 4, 12, 6, 8, 10, 8, 6, 6, 6, 8, 6, 6, 6, 2, 4, 14, 6, 6, 4, 6, 8, 6, 8, 6, 8, 6, 16, 4, 14, 2, 8, 8, 8, 6, 4, 10, 10, 2, 6, 6, 12, 6, 6, 4, 10, 6, 6, 6, 6, 10, 6, 4, 4, 6, 8, 6, 10, 8, 8, 6, 8, 6, 6, 8]]\n",
      "0.30822107\n",
      "2016/2016 - 0s - loss: 0.0296 - accuracy: 0.9876\n",
      "[[6, 6, 8, 2, 6, 6, 6, 6, 6, 6, 2, 4, 4, 4, 8, 6, 4, 4, 6, 6, 6, 6, 6, 2, 6, 4, 2, 6, 8, 6, 4, 6, 10, 4, 4, 6, 2, 8, 4, 6, 8, 6, 6, 6, 6, 6, 6, 6, 4, 2, 4, 8, 4, 4, 2, 6, 6, 6, 6, 4, 4, 4, 10, 2, 8, 2, 6, 6, 6, 6, 4, 6, 6, 4, 6, 6, 10, 6, 4, 4, 6, 6, 6, 6, 6, 6, 4, 4, 4, 6, 6, 6, 6, 8, 4, 6, 4, 6, 6, 6], [8, 6, 10, 2, 4, 4, 4, 6, 4, 4, 4, 4, 4, 4, 8, 4, 4, 4, 4, 4, 6, 4, 6, 2, 4, 4, 2, 4, 10, 6, 4, 4, 10, 4, 4, 4, 4, 10, 6, 6, 8, 6, 4, 6, 4, 6, 4, 4, 4, 2, 4, 10, 4, 4, 4, 4, 6, 4, 6, 4, 6, 4, 12, 2, 10, 2, 6, 6, 6, 4, 4, 8, 6, 4, 4, 4, 10, 4, 4, 4, 6, 4, 4, 4, 4, 8, 6, 4, 4, 4, 6, 4, 6, 8, 6, 4, 6, 4, 4, 6], [8, 6, 10, 2, 4, 4, 4, 6, 4, 4, 4, 4, 6, 4, 10, 4, 4, 6, 4, 4, 8, 4, 6, 2, 4, 4, 0, 4, 10, 6, 4, 4, 10, 4, 6, 6, 4, 10, 6, 6, 8, 6, 4, 6, 4, 6, 4, 4, 6, 2, 4, 10, 6, 4, 4, 4, 6, 4, 6, 6, 6, 6, 12, 4, 10, 2, 6, 6, 6, 4, 4, 8, 8, 4, 4, 4, 10, 4, 4, 4, 8, 4, 4, 4, 4, 8, 6, 2, 4, 4, 6, 4, 6, 8, 6, 4, 6, 4, 4, 6], [10, 6, 10, 2, 6, 6, 6, 8, 6, 6, 4, 6, 4, 4, 10, 6, 4, 4, 6, 6, 8, 6, 8, 2, 6, 4, 0, 6, 12, 8, 4, 6, 12, 4, 4, 6, 6, 12, 6, 8, 10, 8, 6, 8, 6, 8, 6, 6, 6, 2, 4, 12, 4, 4, 4, 6, 8, 6, 8, 6, 8, 6, 14, 4, 12, 2, 8, 8, 6, 6, 4, 8, 8, 4, 6, 6, 10, 6, 6, 4, 8, 6, 6, 6, 6, 8, 6, 2, 4, 6, 8, 6, 8, 8, 6, 6, 6, 6, 6, 8], [12, 6, 10, 2, 6, 6, 6, 8, 6, 6, 4, 6, 4, 4, 10, 6, 6, 4, 6, 6, 10, 6, 8, 4, 6, 4, 0, 6, 14, 6, 4, 6, 10, 2, 4, 6, 4, 12, 6, 8, 10, 8, 6, 6, 6, 8, 6, 6, 6, 2, 4, 14, 4, 6, 4, 6, 8, 6, 8, 6, 6, 6, 12, 4, 14, 2, 8, 8, 8, 6, 4, 10, 8, 2, 6, 6, 12, 6, 4, 4, 8, 6, 6, 6, 6, 10, 6, 4, 4, 6, 8, 6, 8, 8, 6, 6, 6, 6, 6, 8], [12, 6, 10, 0, 6, 6, 6, 8, 6, 6, 4, 6, 6, 4, 10, 6, 6, 6, 6, 6, 10, 6, 8, 4, 6, 4, 0, 6, 14, 6, 4, 6, 10, 4, 6, 6, 4, 12, 6, 8, 10, 8, 6, 6, 6, 8, 6, 6, 6, 2, 4, 14, 6, 6, 4, 6, 8, 6, 8, 6, 6, 6, 12, 4, 14, 2, 8, 8, 8, 6, 4, 10, 8, 4, 6, 6, 12, 6, 4, 4, 8, 6, 6, 6, 6, 10, 6, 4, 4, 6, 8, 6, 10, 8, 8, 6, 8, 6, 6, 8], [12, 6, 10, 0, 6, 6, 6, 8, 6, 6, 4, 6, 6, 4, 10, 6, 6, 6, 6, 6, 10, 6, 8, 4, 6, 4, 0, 6, 14, 6, 4, 6, 10, 2, 6, 8, 6, 12, 6, 8, 10, 8, 6, 6, 6, 8, 6, 6, 6, 2, 4, 14, 6, 6, 4, 6, 8, 6, 8, 6, 8, 6, 12, 4, 14, 2, 8, 8, 8, 6, 4, 10, 10, 2, 6, 6, 12, 6, 6, 4, 10, 6, 6, 6, 6, 10, 6, 2, 4, 6, 8, 6, 10, 8, 8, 6, 8, 6, 6, 8], [12, 6, 26, 0, 6, 6, 6, 8, 6, 6, 4, 6, 6, 4, 10, 6, 6, 6, 6, 6, 10, 6, 8, 4, 6, 4, 0, 6, 14, 6, 4, 6, 24, 2, 6, 6, 4, 12, 6, 8, 10, 8, 6, 6, 6, 8, 6, 6, 6, 2, 4, 14, 6, 6, 4, 6, 8, 6, 8, 6, 8, 6, 16, 4, 14, 2, 8, 8, 8, 6, 4, 10, 10, 2, 6, 6, 12, 6, 6, 4, 10, 6, 6, 6, 6, 10, 6, 4, 4, 6, 8, 6, 10, 8, 8, 6, 8, 6, 6, 8], [12, 6, 10, 0, 6, 6, 6, 8, 6, 6, 4, 6, 6, 4, 10, 6, 6, 6, 6, 6, 10, 6, 6, 4, 6, 4, 0, 6, 14, 6, 4, 6, 12, 2, 6, 8, 4, 12, 6, 8, 10, 6, 6, 6, 6, 8, 6, 6, 6, 4, 4, 14, 6, 6, 4, 6, 8, 6, 8, 6, 6, 6, 12, 4, 14, 0, 8, 8, 8, 6, 2, 10, 8, 2, 6, 6, 12, 6, 6, 2, 8, 6, 6, 6, 6, 10, 6, 4, 2, 6, 8, 6, 8, 8, 8, 6, 8, 6, 6, 8]]\n",
      "0.3065512\n",
      "2016/2016 - 0s - loss: 0.0367 - accuracy: 0.9846\n",
      "[[6, 6, 8, 2, 6, 6, 6, 6, 6, 6, 2, 4, 4, 4, 8, 6, 4, 4, 6, 6, 6, 6, 6, 2, 6, 4, 2, 6, 8, 6, 4, 6, 10, 4, 4, 6, 2, 8, 4, 6, 8, 6, 6, 6, 6, 6, 6, 6, 4, 2, 4, 8, 4, 4, 2, 6, 6, 6, 6, 4, 4, 4, 10, 2, 8, 2, 6, 6, 6, 6, 4, 6, 6, 4, 6, 6, 10, 6, 4, 4, 6, 6, 6, 6, 6, 6, 4, 4, 4, 6, 6, 6, 6, 8, 4, 6, 4, 6, 6, 6], [8, 6, 10, 2, 4, 4, 4, 6, 4, 4, 4, 4, 4, 4, 8, 4, 4, 4, 4, 4, 6, 4, 6, 2, 4, 4, 2, 4, 10, 6, 4, 4, 10, 4, 4, 4, 4, 10, 6, 6, 8, 6, 4, 6, 4, 6, 4, 4, 4, 2, 4, 10, 4, 4, 4, 4, 6, 4, 6, 4, 6, 4, 12, 2, 10, 2, 6, 6, 6, 4, 4, 8, 6, 4, 4, 4, 10, 4, 4, 4, 6, 4, 4, 4, 4, 8, 6, 4, 4, 4, 6, 4, 6, 8, 6, 4, 6, 4, 4, 6], [8, 6, 10, 2, 4, 4, 4, 6, 4, 4, 4, 4, 6, 4, 10, 4, 4, 6, 4, 4, 8, 4, 6, 2, 4, 4, 0, 4, 10, 6, 4, 4, 10, 4, 6, 6, 4, 10, 6, 6, 8, 6, 4, 6, 4, 6, 4, 4, 6, 2, 4, 10, 6, 4, 4, 4, 6, 4, 6, 6, 6, 6, 12, 4, 10, 2, 6, 6, 6, 4, 4, 8, 8, 4, 4, 4, 10, 4, 4, 4, 8, 4, 4, 4, 4, 8, 6, 2, 4, 4, 6, 4, 6, 8, 6, 4, 6, 4, 4, 6], [10, 6, 10, 2, 6, 6, 6, 8, 6, 6, 4, 6, 4, 4, 10, 6, 4, 4, 6, 6, 8, 6, 8, 2, 6, 4, 0, 6, 12, 8, 4, 6, 12, 4, 4, 6, 6, 12, 6, 8, 10, 8, 6, 8, 6, 8, 6, 6, 6, 2, 4, 12, 4, 4, 4, 6, 8, 6, 8, 6, 8, 6, 14, 4, 12, 2, 8, 8, 6, 6, 4, 8, 8, 4, 6, 6, 10, 6, 6, 4, 8, 6, 6, 6, 6, 8, 6, 2, 4, 6, 8, 6, 8, 8, 6, 6, 6, 6, 6, 8], [12, 6, 10, 2, 6, 6, 6, 8, 6, 6, 4, 6, 4, 4, 10, 6, 6, 4, 6, 6, 10, 6, 8, 4, 6, 4, 0, 6, 14, 6, 4, 6, 10, 2, 4, 6, 4, 12, 6, 8, 10, 8, 6, 6, 6, 8, 6, 6, 6, 2, 4, 14, 4, 6, 4, 6, 8, 6, 8, 6, 6, 6, 12, 4, 14, 2, 8, 8, 8, 6, 4, 10, 8, 2, 6, 6, 12, 6, 4, 4, 8, 6, 6, 6, 6, 10, 6, 4, 4, 6, 8, 6, 8, 8, 6, 6, 6, 6, 6, 8], [12, 6, 10, 0, 6, 6, 6, 8, 6, 6, 4, 6, 6, 4, 10, 6, 6, 6, 6, 6, 10, 6, 8, 4, 6, 4, 0, 6, 14, 6, 4, 6, 10, 4, 6, 6, 4, 12, 6, 8, 10, 8, 6, 6, 6, 8, 6, 6, 6, 2, 4, 14, 6, 6, 4, 6, 8, 6, 8, 6, 6, 6, 12, 4, 14, 2, 8, 8, 8, 6, 4, 10, 8, 4, 6, 6, 12, 6, 4, 4, 8, 6, 6, 6, 6, 10, 6, 4, 4, 6, 8, 6, 10, 8, 8, 6, 8, 6, 6, 8], [12, 6, 10, 0, 6, 6, 6, 8, 6, 6, 4, 6, 6, 4, 10, 6, 6, 6, 6, 6, 10, 6, 8, 4, 6, 4, 0, 6, 14, 6, 4, 6, 10, 2, 6, 8, 6, 12, 6, 8, 10, 8, 6, 6, 6, 8, 6, 6, 6, 2, 4, 14, 6, 6, 4, 6, 8, 6, 8, 6, 8, 6, 12, 4, 14, 2, 8, 8, 8, 6, 4, 10, 10, 2, 6, 6, 12, 6, 6, 4, 10, 6, 6, 6, 6, 10, 6, 2, 4, 6, 8, 6, 10, 8, 8, 6, 8, 6, 6, 8], [12, 6, 26, 0, 6, 6, 6, 8, 6, 6, 4, 6, 6, 4, 10, 6, 6, 6, 6, 6, 10, 6, 8, 4, 6, 4, 0, 6, 14, 6, 4, 6, 24, 2, 6, 6, 4, 12, 6, 8, 10, 8, 6, 6, 6, 8, 6, 6, 6, 2, 4, 14, 6, 6, 4, 6, 8, 6, 8, 6, 8, 6, 16, 4, 14, 2, 8, 8, 8, 6, 4, 10, 10, 2, 6, 6, 12, 6, 6, 4, 10, 6, 6, 6, 6, 10, 6, 4, 4, 6, 8, 6, 10, 8, 8, 6, 8, 6, 6, 8], [12, 6, 10, 0, 6, 6, 6, 8, 6, 6, 4, 6, 6, 4, 10, 6, 6, 6, 6, 6, 10, 6, 6, 4, 6, 4, 0, 6, 14, 6, 4, 6, 12, 2, 6, 8, 4, 12, 6, 8, 10, 6, 6, 6, 6, 8, 6, 6, 6, 4, 4, 14, 6, 6, 4, 6, 8, 6, 8, 6, 6, 6, 12, 4, 14, 0, 8, 8, 8, 6, 2, 10, 8, 2, 6, 6, 12, 6, 6, 2, 8, 6, 6, 6, 6, 10, 6, 4, 2, 6, 8, 6, 8, 8, 8, 6, 8, 6, 6, 8], [12, 6, 10, 0, 6, 6, 6, 8, 6, 6, 4, 6, 6, 4, 10, 6, 6, 6, 6, 6, 10, 6, 6, 4, 6, 4, 0, 6, 14, 6, 4, 6, 10, 2, 6, 8, 4, 12, 6, 10, 10, 6, 6, 6, 6, 10, 6, 6, 8, 4, 4, 14, 6, 6, 4, 6, 10, 6, 10, 8, 6, 6, 12, 4, 14, 0, 8, 8, 8, 6, 2, 10, 8, 2, 6, 6, 12, 6, 4, 2, 8, 6, 6, 6, 6, 10, 6, 4, 2, 6, 10, 6, 8, 10, 8, 6, 8, 6, 6, 8]]\n",
      "0.2689652\n",
      "2016/2016 - 0s - loss: 0.0379 - accuracy: 0.9846\n",
      "[[6, 6, 8, 2, 6, 6, 6, 6, 6, 6, 2, 4, 4, 4, 8, 6, 4, 4, 6, 6, 6, 6, 6, 2, 6, 4, 2, 6, 8, 6, 4, 6, 10, 4, 4, 6, 2, 8, 4, 6, 8, 6, 6, 6, 6, 6, 6, 6, 4, 2, 4, 8, 4, 4, 2, 6, 6, 6, 6, 4, 4, 4, 10, 2, 8, 2, 6, 6, 6, 6, 4, 6, 6, 4, 6, 6, 10, 6, 4, 4, 6, 6, 6, 6, 6, 6, 4, 4, 4, 6, 6, 6, 6, 8, 4, 6, 4, 6, 6, 6], [8, 6, 10, 2, 4, 4, 4, 6, 4, 4, 4, 4, 4, 4, 8, 4, 4, 4, 4, 4, 6, 4, 6, 2, 4, 4, 2, 4, 10, 6, 4, 4, 10, 4, 4, 4, 4, 10, 6, 6, 8, 6, 4, 6, 4, 6, 4, 4, 4, 2, 4, 10, 4, 4, 4, 4, 6, 4, 6, 4, 6, 4, 12, 2, 10, 2, 6, 6, 6, 4, 4, 8, 6, 4, 4, 4, 10, 4, 4, 4, 6, 4, 4, 4, 4, 8, 6, 4, 4, 4, 6, 4, 6, 8, 6, 4, 6, 4, 4, 6], [8, 6, 10, 2, 4, 4, 4, 6, 4, 4, 4, 4, 6, 4, 10, 4, 4, 6, 4, 4, 8, 4, 6, 2, 4, 4, 0, 4, 10, 6, 4, 4, 10, 4, 6, 6, 4, 10, 6, 6, 8, 6, 4, 6, 4, 6, 4, 4, 6, 2, 4, 10, 6, 4, 4, 4, 6, 4, 6, 6, 6, 6, 12, 4, 10, 2, 6, 6, 6, 4, 4, 8, 8, 4, 4, 4, 10, 4, 4, 4, 8, 4, 4, 4, 4, 8, 6, 2, 4, 4, 6, 4, 6, 8, 6, 4, 6, 4, 4, 6], [10, 6, 10, 2, 6, 6, 6, 8, 6, 6, 4, 6, 4, 4, 10, 6, 4, 4, 6, 6, 8, 6, 8, 2, 6, 4, 0, 6, 12, 8, 4, 6, 12, 4, 4, 6, 6, 12, 6, 8, 10, 8, 6, 8, 6, 8, 6, 6, 6, 2, 4, 12, 4, 4, 4, 6, 8, 6, 8, 6, 8, 6, 14, 4, 12, 2, 8, 8, 6, 6, 4, 8, 8, 4, 6, 6, 10, 6, 6, 4, 8, 6, 6, 6, 6, 8, 6, 2, 4, 6, 8, 6, 8, 8, 6, 6, 6, 6, 6, 8], [12, 6, 10, 2, 6, 6, 6, 8, 6, 6, 4, 6, 4, 4, 10, 6, 6, 4, 6, 6, 10, 6, 8, 4, 6, 4, 0, 6, 14, 6, 4, 6, 10, 2, 4, 6, 4, 12, 6, 8, 10, 8, 6, 6, 6, 8, 6, 6, 6, 2, 4, 14, 4, 6, 4, 6, 8, 6, 8, 6, 6, 6, 12, 4, 14, 2, 8, 8, 8, 6, 4, 10, 8, 2, 6, 6, 12, 6, 4, 4, 8, 6, 6, 6, 6, 10, 6, 4, 4, 6, 8, 6, 8, 8, 6, 6, 6, 6, 6, 8], [12, 6, 10, 0, 6, 6, 6, 8, 6, 6, 4, 6, 6, 4, 10, 6, 6, 6, 6, 6, 10, 6, 8, 4, 6, 4, 0, 6, 14, 6, 4, 6, 10, 4, 6, 6, 4, 12, 6, 8, 10, 8, 6, 6, 6, 8, 6, 6, 6, 2, 4, 14, 6, 6, 4, 6, 8, 6, 8, 6, 6, 6, 12, 4, 14, 2, 8, 8, 8, 6, 4, 10, 8, 4, 6, 6, 12, 6, 4, 4, 8, 6, 6, 6, 6, 10, 6, 4, 4, 6, 8, 6, 10, 8, 8, 6, 8, 6, 6, 8], [12, 6, 10, 0, 6, 6, 6, 8, 6, 6, 4, 6, 6, 4, 10, 6, 6, 6, 6, 6, 10, 6, 8, 4, 6, 4, 0, 6, 14, 6, 4, 6, 10, 2, 6, 8, 6, 12, 6, 8, 10, 8, 6, 6, 6, 8, 6, 6, 6, 2, 4, 14, 6, 6, 4, 6, 8, 6, 8, 6, 8, 6, 12, 4, 14, 2, 8, 8, 8, 6, 4, 10, 10, 2, 6, 6, 12, 6, 6, 4, 10, 6, 6, 6, 6, 10, 6, 2, 4, 6, 8, 6, 10, 8, 8, 6, 8, 6, 6, 8], [12, 6, 26, 0, 6, 6, 6, 8, 6, 6, 4, 6, 6, 4, 10, 6, 6, 6, 6, 6, 10, 6, 8, 4, 6, 4, 0, 6, 14, 6, 4, 6, 24, 2, 6, 6, 4, 12, 6, 8, 10, 8, 6, 6, 6, 8, 6, 6, 6, 2, 4, 14, 6, 6, 4, 6, 8, 6, 8, 6, 8, 6, 16, 4, 14, 2, 8, 8, 8, 6, 4, 10, 10, 2, 6, 6, 12, 6, 6, 4, 10, 6, 6, 6, 6, 10, 6, 4, 4, 6, 8, 6, 10, 8, 8, 6, 8, 6, 6, 8], [12, 6, 10, 0, 6, 6, 6, 8, 6, 6, 4, 6, 6, 4, 10, 6, 6, 6, 6, 6, 10, 6, 6, 4, 6, 4, 0, 6, 14, 6, 4, 6, 12, 2, 6, 8, 4, 12, 6, 8, 10, 6, 6, 6, 6, 8, 6, 6, 6, 4, 4, 14, 6, 6, 4, 6, 8, 6, 8, 6, 6, 6, 12, 4, 14, 0, 8, 8, 8, 6, 2, 10, 8, 2, 6, 6, 12, 6, 6, 2, 8, 6, 6, 6, 6, 10, 6, 4, 2, 6, 8, 6, 8, 8, 8, 6, 8, 6, 6, 8], [12, 6, 10, 0, 6, 6, 6, 8, 6, 6, 4, 6, 6, 4, 10, 6, 6, 6, 6, 6, 10, 6, 6, 4, 6, 4, 0, 6, 14, 6, 4, 6, 10, 2, 6, 8, 4, 12, 6, 10, 10, 6, 6, 6, 6, 10, 6, 6, 8, 4, 4, 14, 6, 6, 4, 6, 10, 6, 10, 8, 6, 6, 12, 4, 14, 0, 8, 8, 8, 6, 2, 10, 8, 2, 6, 6, 12, 6, 4, 2, 8, 6, 6, 6, 6, 10, 6, 4, 2, 6, 10, 6, 8, 10, 8, 6, 8, 6, 6, 8], [12, 6, 10, 0, 6, 6, 6, 8, 6, 6, 4, 6, 6, 4, 10, 6, 6, 6, 6, 6, 10, 6, 6, 4, 6, 4, 0, 6, 14, 6, 4, 6, 12, 2, 6, 8, 4, 12, 6, 10, 10, 6, 6, 6, 6, 10, 6, 6, 8, 4, 4, 14, 6, 6, 4, 6, 10, 6, 10, 8, 8, 6, 12, 4, 14, 0, 8, 8, 8, 6, 2, 12, 10, 2, 6, 6, 14, 6, 6, 2, 10, 6, 6, 6, 6, 10, 6, 4, 2, 6, 10, 6, 8, 10, 8, 6, 8, 6, 6, 8]]\n",
      "0.2658677\n",
      "2016/2016 - 0s - loss: 0.0375 - accuracy: 0.9846\n",
      "[[6, 6, 8, 2, 6, 6, 6, 6, 6, 6, 2, 4, 4, 4, 8, 6, 4, 4, 6, 6, 6, 6, 6, 2, 6, 4, 2, 6, 8, 6, 4, 6, 10, 4, 4, 6, 2, 8, 4, 6, 8, 6, 6, 6, 6, 6, 6, 6, 4, 2, 4, 8, 4, 4, 2, 6, 6, 6, 6, 4, 4, 4, 10, 2, 8, 2, 6, 6, 6, 6, 4, 6, 6, 4, 6, 6, 10, 6, 4, 4, 6, 6, 6, 6, 6, 6, 4, 4, 4, 6, 6, 6, 6, 8, 4, 6, 4, 6, 6, 6], [8, 6, 10, 2, 4, 4, 4, 6, 4, 4, 4, 4, 4, 4, 8, 4, 4, 4, 4, 4, 6, 4, 6, 2, 4, 4, 2, 4, 10, 6, 4, 4, 10, 4, 4, 4, 4, 10, 6, 6, 8, 6, 4, 6, 4, 6, 4, 4, 4, 2, 4, 10, 4, 4, 4, 4, 6, 4, 6, 4, 6, 4, 12, 2, 10, 2, 6, 6, 6, 4, 4, 8, 6, 4, 4, 4, 10, 4, 4, 4, 6, 4, 4, 4, 4, 8, 6, 4, 4, 4, 6, 4, 6, 8, 6, 4, 6, 4, 4, 6], [8, 6, 10, 2, 4, 4, 4, 6, 4, 4, 4, 4, 6, 4, 10, 4, 4, 6, 4, 4, 8, 4, 6, 2, 4, 4, 0, 4, 10, 6, 4, 4, 10, 4, 6, 6, 4, 10, 6, 6, 8, 6, 4, 6, 4, 6, 4, 4, 6, 2, 4, 10, 6, 4, 4, 4, 6, 4, 6, 6, 6, 6, 12, 4, 10, 2, 6, 6, 6, 4, 4, 8, 8, 4, 4, 4, 10, 4, 4, 4, 8, 4, 4, 4, 4, 8, 6, 2, 4, 4, 6, 4, 6, 8, 6, 4, 6, 4, 4, 6], [10, 6, 10, 2, 6, 6, 6, 8, 6, 6, 4, 6, 4, 4, 10, 6, 4, 4, 6, 6, 8, 6, 8, 2, 6, 4, 0, 6, 12, 8, 4, 6, 12, 4, 4, 6, 6, 12, 6, 8, 10, 8, 6, 8, 6, 8, 6, 6, 6, 2, 4, 12, 4, 4, 4, 6, 8, 6, 8, 6, 8, 6, 14, 4, 12, 2, 8, 8, 6, 6, 4, 8, 8, 4, 6, 6, 10, 6, 6, 4, 8, 6, 6, 6, 6, 8, 6, 2, 4, 6, 8, 6, 8, 8, 6, 6, 6, 6, 6, 8], [12, 6, 10, 2, 6, 6, 6, 8, 6, 6, 4, 6, 4, 4, 10, 6, 6, 4, 6, 6, 10, 6, 8, 4, 6, 4, 0, 6, 14, 6, 4, 6, 10, 2, 4, 6, 4, 12, 6, 8, 10, 8, 6, 6, 6, 8, 6, 6, 6, 2, 4, 14, 4, 6, 4, 6, 8, 6, 8, 6, 6, 6, 12, 4, 14, 2, 8, 8, 8, 6, 4, 10, 8, 2, 6, 6, 12, 6, 4, 4, 8, 6, 6, 6, 6, 10, 6, 4, 4, 6, 8, 6, 8, 8, 6, 6, 6, 6, 6, 8], [12, 6, 10, 0, 6, 6, 6, 8, 6, 6, 4, 6, 6, 4, 10, 6, 6, 6, 6, 6, 10, 6, 8, 4, 6, 4, 0, 6, 14, 6, 4, 6, 10, 4, 6, 6, 4, 12, 6, 8, 10, 8, 6, 6, 6, 8, 6, 6, 6, 2, 4, 14, 6, 6, 4, 6, 8, 6, 8, 6, 6, 6, 12, 4, 14, 2, 8, 8, 8, 6, 4, 10, 8, 4, 6, 6, 12, 6, 4, 4, 8, 6, 6, 6, 6, 10, 6, 4, 4, 6, 8, 6, 10, 8, 8, 6, 8, 6, 6, 8], [12, 6, 10, 0, 6, 6, 6, 8, 6, 6, 4, 6, 6, 4, 10, 6, 6, 6, 6, 6, 10, 6, 8, 4, 6, 4, 0, 6, 14, 6, 4, 6, 10, 2, 6, 8, 6, 12, 6, 8, 10, 8, 6, 6, 6, 8, 6, 6, 6, 2, 4, 14, 6, 6, 4, 6, 8, 6, 8, 6, 8, 6, 12, 4, 14, 2, 8, 8, 8, 6, 4, 10, 10, 2, 6, 6, 12, 6, 6, 4, 10, 6, 6, 6, 6, 10, 6, 2, 4, 6, 8, 6, 10, 8, 8, 6, 8, 6, 6, 8], [12, 6, 26, 0, 6, 6, 6, 8, 6, 6, 4, 6, 6, 4, 10, 6, 6, 6, 6, 6, 10, 6, 8, 4, 6, 4, 0, 6, 14, 6, 4, 6, 24, 2, 6, 6, 4, 12, 6, 8, 10, 8, 6, 6, 6, 8, 6, 6, 6, 2, 4, 14, 6, 6, 4, 6, 8, 6, 8, 6, 8, 6, 16, 4, 14, 2, 8, 8, 8, 6, 4, 10, 10, 2, 6, 6, 12, 6, 6, 4, 10, 6, 6, 6, 6, 10, 6, 4, 4, 6, 8, 6, 10, 8, 8, 6, 8, 6, 6, 8], [12, 6, 10, 0, 6, 6, 6, 8, 6, 6, 4, 6, 6, 4, 10, 6, 6, 6, 6, 6, 10, 6, 6, 4, 6, 4, 0, 6, 14, 6, 4, 6, 12, 2, 6, 8, 4, 12, 6, 8, 10, 6, 6, 6, 6, 8, 6, 6, 6, 4, 4, 14, 6, 6, 4, 6, 8, 6, 8, 6, 6, 6, 12, 4, 14, 0, 8, 8, 8, 6, 2, 10, 8, 2, 6, 6, 12, 6, 6, 2, 8, 6, 6, 6, 6, 10, 6, 4, 2, 6, 8, 6, 8, 8, 8, 6, 8, 6, 6, 8], [12, 6, 10, 0, 6, 6, 6, 8, 6, 6, 4, 6, 6, 4, 10, 6, 6, 6, 6, 6, 10, 6, 6, 4, 6, 4, 0, 6, 14, 6, 4, 6, 10, 2, 6, 8, 4, 12, 6, 10, 10, 6, 6, 6, 6, 10, 6, 6, 8, 4, 4, 14, 6, 6, 4, 6, 10, 6, 10, 8, 6, 6, 12, 4, 14, 0, 8, 8, 8, 6, 2, 10, 8, 2, 6, 6, 12, 6, 4, 2, 8, 6, 6, 6, 6, 10, 6, 4, 2, 6, 10, 6, 8, 10, 8, 6, 8, 6, 6, 8], [12, 6, 10, 0, 6, 6, 6, 8, 6, 6, 4, 6, 6, 4, 10, 6, 6, 6, 6, 6, 10, 6, 6, 4, 6, 4, 0, 6, 14, 6, 4, 6, 12, 2, 6, 8, 4, 12, 6, 10, 10, 6, 6, 6, 6, 10, 6, 6, 8, 4, 4, 14, 6, 6, 4, 6, 10, 6, 10, 8, 8, 6, 12, 4, 14, 0, 8, 8, 8, 6, 2, 12, 10, 2, 6, 6, 14, 6, 6, 2, 10, 6, 6, 6, 6, 10, 6, 4, 2, 6, 10, 6, 8, 10, 8, 6, 8, 6, 6, 8], [12, 6, 10, 0, 6, 6, 6, 8, 6, 6, 4, 6, 6, 4, 10, 6, 6, 6, 6, 6, 10, 6, 6, 4, 6, 4, 0, 6, 14, 6, 4, 6, 12, 2, 6, 8, 4, 12, 6, 10, 10, 6, 6, 6, 6, 10, 6, 6, 8, 4, 4, 14, 6, 6, 4, 6, 10, 6, 10, 8, 8, 6, 12, 4, 14, 0, 10, 10, 8, 6, 2, 12, 10, 2, 6, 6, 12, 6, 6, 2, 10, 6, 6, 6, 6, 10, 6, 4, 2, 6, 10, 6, 8, 10, 8, 6, 8, 6, 6, 8]]\n",
      "0.26179138\n",
      "2016/2016 - 0s - loss: 0.0374 - accuracy: 0.9841\n",
      "[[6, 6, 8, 2, 6, 6, 6, 6, 6, 6, 2, 4, 4, 4, 8, 6, 4, 4, 6, 6, 6, 6, 6, 2, 6, 4, 2, 6, 8, 6, 4, 6, 10, 4, 4, 6, 2, 8, 4, 6, 8, 6, 6, 6, 6, 6, 6, 6, 4, 2, 4, 8, 4, 4, 2, 6, 6, 6, 6, 4, 4, 4, 10, 2, 8, 2, 6, 6, 6, 6, 4, 6, 6, 4, 6, 6, 10, 6, 4, 4, 6, 6, 6, 6, 6, 6, 4, 4, 4, 6, 6, 6, 6, 8, 4, 6, 4, 6, 6, 6], [8, 6, 10, 2, 4, 4, 4, 6, 4, 4, 4, 4, 4, 4, 8, 4, 4, 4, 4, 4, 6, 4, 6, 2, 4, 4, 2, 4, 10, 6, 4, 4, 10, 4, 4, 4, 4, 10, 6, 6, 8, 6, 4, 6, 4, 6, 4, 4, 4, 2, 4, 10, 4, 4, 4, 4, 6, 4, 6, 4, 6, 4, 12, 2, 10, 2, 6, 6, 6, 4, 4, 8, 6, 4, 4, 4, 10, 4, 4, 4, 6, 4, 4, 4, 4, 8, 6, 4, 4, 4, 6, 4, 6, 8, 6, 4, 6, 4, 4, 6], [8, 6, 10, 2, 4, 4, 4, 6, 4, 4, 4, 4, 6, 4, 10, 4, 4, 6, 4, 4, 8, 4, 6, 2, 4, 4, 0, 4, 10, 6, 4, 4, 10, 4, 6, 6, 4, 10, 6, 6, 8, 6, 4, 6, 4, 6, 4, 4, 6, 2, 4, 10, 6, 4, 4, 4, 6, 4, 6, 6, 6, 6, 12, 4, 10, 2, 6, 6, 6, 4, 4, 8, 8, 4, 4, 4, 10, 4, 4, 4, 8, 4, 4, 4, 4, 8, 6, 2, 4, 4, 6, 4, 6, 8, 6, 4, 6, 4, 4, 6], [10, 6, 10, 2, 6, 6, 6, 8, 6, 6, 4, 6, 4, 4, 10, 6, 4, 4, 6, 6, 8, 6, 8, 2, 6, 4, 0, 6, 12, 8, 4, 6, 12, 4, 4, 6, 6, 12, 6, 8, 10, 8, 6, 8, 6, 8, 6, 6, 6, 2, 4, 12, 4, 4, 4, 6, 8, 6, 8, 6, 8, 6, 14, 4, 12, 2, 8, 8, 6, 6, 4, 8, 8, 4, 6, 6, 10, 6, 6, 4, 8, 6, 6, 6, 6, 8, 6, 2, 4, 6, 8, 6, 8, 8, 6, 6, 6, 6, 6, 8], [12, 6, 10, 2, 6, 6, 6, 8, 6, 6, 4, 6, 4, 4, 10, 6, 6, 4, 6, 6, 10, 6, 8, 4, 6, 4, 0, 6, 14, 6, 4, 6, 10, 2, 4, 6, 4, 12, 6, 8, 10, 8, 6, 6, 6, 8, 6, 6, 6, 2, 4, 14, 4, 6, 4, 6, 8, 6, 8, 6, 6, 6, 12, 4, 14, 2, 8, 8, 8, 6, 4, 10, 8, 2, 6, 6, 12, 6, 4, 4, 8, 6, 6, 6, 6, 10, 6, 4, 4, 6, 8, 6, 8, 8, 6, 6, 6, 6, 6, 8], [12, 6, 10, 0, 6, 6, 6, 8, 6, 6, 4, 6, 6, 4, 10, 6, 6, 6, 6, 6, 10, 6, 8, 4, 6, 4, 0, 6, 14, 6, 4, 6, 10, 4, 6, 6, 4, 12, 6, 8, 10, 8, 6, 6, 6, 8, 6, 6, 6, 2, 4, 14, 6, 6, 4, 6, 8, 6, 8, 6, 6, 6, 12, 4, 14, 2, 8, 8, 8, 6, 4, 10, 8, 4, 6, 6, 12, 6, 4, 4, 8, 6, 6, 6, 6, 10, 6, 4, 4, 6, 8, 6, 10, 8, 8, 6, 8, 6, 6, 8], [12, 6, 10, 0, 6, 6, 6, 8, 6, 6, 4, 6, 6, 4, 10, 6, 6, 6, 6, 6, 10, 6, 8, 4, 6, 4, 0, 6, 14, 6, 4, 6, 10, 2, 6, 8, 6, 12, 6, 8, 10, 8, 6, 6, 6, 8, 6, 6, 6, 2, 4, 14, 6, 6, 4, 6, 8, 6, 8, 6, 8, 6, 12, 4, 14, 2, 8, 8, 8, 6, 4, 10, 10, 2, 6, 6, 12, 6, 6, 4, 10, 6, 6, 6, 6, 10, 6, 2, 4, 6, 8, 6, 10, 8, 8, 6, 8, 6, 6, 8], [12, 6, 26, 0, 6, 6, 6, 8, 6, 6, 4, 6, 6, 4, 10, 6, 6, 6, 6, 6, 10, 6, 8, 4, 6, 4, 0, 6, 14, 6, 4, 6, 24, 2, 6, 6, 4, 12, 6, 8, 10, 8, 6, 6, 6, 8, 6, 6, 6, 2, 4, 14, 6, 6, 4, 6, 8, 6, 8, 6, 8, 6, 16, 4, 14, 2, 8, 8, 8, 6, 4, 10, 10, 2, 6, 6, 12, 6, 6, 4, 10, 6, 6, 6, 6, 10, 6, 4, 4, 6, 8, 6, 10, 8, 8, 6, 8, 6, 6, 8], [12, 6, 10, 0, 6, 6, 6, 8, 6, 6, 4, 6, 6, 4, 10, 6, 6, 6, 6, 6, 10, 6, 6, 4, 6, 4, 0, 6, 14, 6, 4, 6, 12, 2, 6, 8, 4, 12, 6, 8, 10, 6, 6, 6, 6, 8, 6, 6, 6, 4, 4, 14, 6, 6, 4, 6, 8, 6, 8, 6, 6, 6, 12, 4, 14, 0, 8, 8, 8, 6, 2, 10, 8, 2, 6, 6, 12, 6, 6, 2, 8, 6, 6, 6, 6, 10, 6, 4, 2, 6, 8, 6, 8, 8, 8, 6, 8, 6, 6, 8], [12, 6, 10, 0, 6, 6, 6, 8, 6, 6, 4, 6, 6, 4, 10, 6, 6, 6, 6, 6, 10, 6, 6, 4, 6, 4, 0, 6, 14, 6, 4, 6, 10, 2, 6, 8, 4, 12, 6, 10, 10, 6, 6, 6, 6, 10, 6, 6, 8, 4, 4, 14, 6, 6, 4, 6, 10, 6, 10, 8, 6, 6, 12, 4, 14, 0, 8, 8, 8, 6, 2, 10, 8, 2, 6, 6, 12, 6, 4, 2, 8, 6, 6, 6, 6, 10, 6, 4, 2, 6, 10, 6, 8, 10, 8, 6, 8, 6, 6, 8], [12, 6, 10, 0, 6, 6, 6, 8, 6, 6, 4, 6, 6, 4, 10, 6, 6, 6, 6, 6, 10, 6, 6, 4, 6, 4, 0, 6, 14, 6, 4, 6, 12, 2, 6, 8, 4, 12, 6, 10, 10, 6, 6, 6, 6, 10, 6, 6, 8, 4, 4, 14, 6, 6, 4, 6, 10, 6, 10, 8, 8, 6, 12, 4, 14, 0, 8, 8, 8, 6, 2, 12, 10, 2, 6, 6, 14, 6, 6, 2, 10, 6, 6, 6, 6, 10, 6, 4, 2, 6, 10, 6, 8, 10, 8, 6, 8, 6, 6, 8], [12, 6, 10, 0, 6, 6, 6, 8, 6, 6, 4, 6, 6, 4, 10, 6, 6, 6, 6, 6, 10, 6, 6, 4, 6, 4, 0, 6, 14, 6, 4, 6, 12, 2, 6, 8, 4, 12, 6, 10, 10, 6, 6, 6, 6, 10, 6, 6, 8, 4, 4, 14, 6, 6, 4, 6, 10, 6, 10, 8, 8, 6, 12, 4, 14, 0, 10, 10, 8, 6, 2, 12, 10, 2, 6, 6, 12, 6, 6, 2, 10, 6, 6, 6, 6, 10, 6, 4, 2, 6, 10, 6, 8, 10, 8, 6, 8, 6, 6, 8], [14, 6, 12, 0, 6, 6, 6, 8, 6, 6, 4, 6, 8, 4, 12, 6, 6, 8, 6, 6, 10, 6, 6, 4, 6, 4, 0, 6, 14, 6, 4, 6, 12, 4, 8, 8, 6, 14, 6, 10, 10, 6, 6, 6, 6, 10, 6, 6, 8, 4, 4, 14, 8, 6, 4, 6, 10, 6, 10, 8, 8, 6, 14, 2, 14, 0, 10, 10, 8, 6, 2, 12, 10, 4, 6, 6, 12, 6, 6, 2, 10, 6, 6, 6, 6, 10, 6, 4, 2, 6, 10, 6, 10, 10, 8, 6, 8, 6, 6, 8]]\n",
      "0.25206894\n",
      "2016/2016 - 0s - loss: 0.0387 - accuracy: 0.9836\n",
      "[[6, 6, 8, 2, 6, 6, 6, 6, 6, 6, 2, 4, 4, 4, 8, 6, 4, 4, 6, 6, 6, 6, 6, 2, 6, 4, 2, 6, 8, 6, 4, 6, 10, 4, 4, 6, 2, 8, 4, 6, 8, 6, 6, 6, 6, 6, 6, 6, 4, 2, 4, 8, 4, 4, 2, 6, 6, 6, 6, 4, 4, 4, 10, 2, 8, 2, 6, 6, 6, 6, 4, 6, 6, 4, 6, 6, 10, 6, 4, 4, 6, 6, 6, 6, 6, 6, 4, 4, 4, 6, 6, 6, 6, 8, 4, 6, 4, 6, 6, 6], [8, 6, 10, 2, 4, 4, 4, 6, 4, 4, 4, 4, 4, 4, 8, 4, 4, 4, 4, 4, 6, 4, 6, 2, 4, 4, 2, 4, 10, 6, 4, 4, 10, 4, 4, 4, 4, 10, 6, 6, 8, 6, 4, 6, 4, 6, 4, 4, 4, 2, 4, 10, 4, 4, 4, 4, 6, 4, 6, 4, 6, 4, 12, 2, 10, 2, 6, 6, 6, 4, 4, 8, 6, 4, 4, 4, 10, 4, 4, 4, 6, 4, 4, 4, 4, 8, 6, 4, 4, 4, 6, 4, 6, 8, 6, 4, 6, 4, 4, 6], [8, 6, 10, 2, 4, 4, 4, 6, 4, 4, 4, 4, 6, 4, 10, 4, 4, 6, 4, 4, 8, 4, 6, 2, 4, 4, 0, 4, 10, 6, 4, 4, 10, 4, 6, 6, 4, 10, 6, 6, 8, 6, 4, 6, 4, 6, 4, 4, 6, 2, 4, 10, 6, 4, 4, 4, 6, 4, 6, 6, 6, 6, 12, 4, 10, 2, 6, 6, 6, 4, 4, 8, 8, 4, 4, 4, 10, 4, 4, 4, 8, 4, 4, 4, 4, 8, 6, 2, 4, 4, 6, 4, 6, 8, 6, 4, 6, 4, 4, 6], [10, 6, 10, 2, 6, 6, 6, 8, 6, 6, 4, 6, 4, 4, 10, 6, 4, 4, 6, 6, 8, 6, 8, 2, 6, 4, 0, 6, 12, 8, 4, 6, 12, 4, 4, 6, 6, 12, 6, 8, 10, 8, 6, 8, 6, 8, 6, 6, 6, 2, 4, 12, 4, 4, 4, 6, 8, 6, 8, 6, 8, 6, 14, 4, 12, 2, 8, 8, 6, 6, 4, 8, 8, 4, 6, 6, 10, 6, 6, 4, 8, 6, 6, 6, 6, 8, 6, 2, 4, 6, 8, 6, 8, 8, 6, 6, 6, 6, 6, 8], [12, 6, 10, 2, 6, 6, 6, 8, 6, 6, 4, 6, 4, 4, 10, 6, 6, 4, 6, 6, 10, 6, 8, 4, 6, 4, 0, 6, 14, 6, 4, 6, 10, 2, 4, 6, 4, 12, 6, 8, 10, 8, 6, 6, 6, 8, 6, 6, 6, 2, 4, 14, 4, 6, 4, 6, 8, 6, 8, 6, 6, 6, 12, 4, 14, 2, 8, 8, 8, 6, 4, 10, 8, 2, 6, 6, 12, 6, 4, 4, 8, 6, 6, 6, 6, 10, 6, 4, 4, 6, 8, 6, 8, 8, 6, 6, 6, 6, 6, 8], [12, 6, 10, 0, 6, 6, 6, 8, 6, 6, 4, 6, 6, 4, 10, 6, 6, 6, 6, 6, 10, 6, 8, 4, 6, 4, 0, 6, 14, 6, 4, 6, 10, 4, 6, 6, 4, 12, 6, 8, 10, 8, 6, 6, 6, 8, 6, 6, 6, 2, 4, 14, 6, 6, 4, 6, 8, 6, 8, 6, 6, 6, 12, 4, 14, 2, 8, 8, 8, 6, 4, 10, 8, 4, 6, 6, 12, 6, 4, 4, 8, 6, 6, 6, 6, 10, 6, 4, 4, 6, 8, 6, 10, 8, 8, 6, 8, 6, 6, 8], [12, 6, 10, 0, 6, 6, 6, 8, 6, 6, 4, 6, 6, 4, 10, 6, 6, 6, 6, 6, 10, 6, 8, 4, 6, 4, 0, 6, 14, 6, 4, 6, 10, 2, 6, 8, 6, 12, 6, 8, 10, 8, 6, 6, 6, 8, 6, 6, 6, 2, 4, 14, 6, 6, 4, 6, 8, 6, 8, 6, 8, 6, 12, 4, 14, 2, 8, 8, 8, 6, 4, 10, 10, 2, 6, 6, 12, 6, 6, 4, 10, 6, 6, 6, 6, 10, 6, 2, 4, 6, 8, 6, 10, 8, 8, 6, 8, 6, 6, 8], [12, 6, 26, 0, 6, 6, 6, 8, 6, 6, 4, 6, 6, 4, 10, 6, 6, 6, 6, 6, 10, 6, 8, 4, 6, 4, 0, 6, 14, 6, 4, 6, 24, 2, 6, 6, 4, 12, 6, 8, 10, 8, 6, 6, 6, 8, 6, 6, 6, 2, 4, 14, 6, 6, 4, 6, 8, 6, 8, 6, 8, 6, 16, 4, 14, 2, 8, 8, 8, 6, 4, 10, 10, 2, 6, 6, 12, 6, 6, 4, 10, 6, 6, 6, 6, 10, 6, 4, 4, 6, 8, 6, 10, 8, 8, 6, 8, 6, 6, 8], [12, 6, 10, 0, 6, 6, 6, 8, 6, 6, 4, 6, 6, 4, 10, 6, 6, 6, 6, 6, 10, 6, 6, 4, 6, 4, 0, 6, 14, 6, 4, 6, 12, 2, 6, 8, 4, 12, 6, 8, 10, 6, 6, 6, 6, 8, 6, 6, 6, 4, 4, 14, 6, 6, 4, 6, 8, 6, 8, 6, 6, 6, 12, 4, 14, 0, 8, 8, 8, 6, 2, 10, 8, 2, 6, 6, 12, 6, 6, 2, 8, 6, 6, 6, 6, 10, 6, 4, 2, 6, 8, 6, 8, 8, 8, 6, 8, 6, 6, 8], [12, 6, 10, 0, 6, 6, 6, 8, 6, 6, 4, 6, 6, 4, 10, 6, 6, 6, 6, 6, 10, 6, 6, 4, 6, 4, 0, 6, 14, 6, 4, 6, 10, 2, 6, 8, 4, 12, 6, 10, 10, 6, 6, 6, 6, 10, 6, 6, 8, 4, 4, 14, 6, 6, 4, 6, 10, 6, 10, 8, 6, 6, 12, 4, 14, 0, 8, 8, 8, 6, 2, 10, 8, 2, 6, 6, 12, 6, 4, 2, 8, 6, 6, 6, 6, 10, 6, 4, 2, 6, 10, 6, 8, 10, 8, 6, 8, 6, 6, 8], [12, 6, 10, 0, 6, 6, 6, 8, 6, 6, 4, 6, 6, 4, 10, 6, 6, 6, 6, 6, 10, 6, 6, 4, 6, 4, 0, 6, 14, 6, 4, 6, 12, 2, 6, 8, 4, 12, 6, 10, 10, 6, 6, 6, 6, 10, 6, 6, 8, 4, 4, 14, 6, 6, 4, 6, 10, 6, 10, 8, 8, 6, 12, 4, 14, 0, 8, 8, 8, 6, 2, 12, 10, 2, 6, 6, 14, 6, 6, 2, 10, 6, 6, 6, 6, 10, 6, 4, 2, 6, 10, 6, 8, 10, 8, 6, 8, 6, 6, 8], [12, 6, 10, 0, 6, 6, 6, 8, 6, 6, 4, 6, 6, 4, 10, 6, 6, 6, 6, 6, 10, 6, 6, 4, 6, 4, 0, 6, 14, 6, 4, 6, 12, 2, 6, 8, 4, 12, 6, 10, 10, 6, 6, 6, 6, 10, 6, 6, 8, 4, 4, 14, 6, 6, 4, 6, 10, 6, 10, 8, 8, 6, 12, 4, 14, 0, 10, 10, 8, 6, 2, 12, 10, 2, 6, 6, 12, 6, 6, 2, 10, 6, 6, 6, 6, 10, 6, 4, 2, 6, 10, 6, 8, 10, 8, 6, 8, 6, 6, 8], [14, 6, 12, 0, 6, 6, 6, 8, 6, 6, 4, 6, 8, 4, 12, 6, 6, 8, 6, 6, 10, 6, 6, 4, 6, 4, 0, 6, 14, 6, 4, 6, 12, 4, 8, 8, 6, 14, 6, 10, 10, 6, 6, 6, 6, 10, 6, 6, 8, 4, 4, 14, 8, 6, 4, 6, 10, 6, 10, 8, 8, 6, 14, 2, 14, 0, 10, 10, 8, 6, 2, 12, 10, 4, 6, 6, 12, 6, 6, 2, 10, 6, 6, 6, 6, 10, 6, 4, 2, 6, 10, 6, 10, 10, 8, 6, 8, 6, 6, 8], [16, 6, 12, 0, 6, 6, 6, 8, 6, 6, 2, 4, 8, 4, 12, 6, 6, 8, 6, 6, 10, 6, 6, 6, 6, 4, 0, 6, 16, 6, 6, 6, 12, 4, 8, 10, 6, 14, 6, 8, 10, 6, 6, 6, 6, 8, 6, 6, 6, 4, 4, 16, 8, 6, 2, 6, 8, 6, 8, 6, 8, 6, 16, 4, 16, 0, 10, 10, 10, 6, 2, 12, 10, 4, 6, 6, 14, 6, 6, 2, 10, 6, 6, 6, 6, 10, 6, 6, 2, 6, 8, 6, 10, 12, 8, 6, 8, 6, 6, 10]]\n",
      "0.25134656\n",
      "2016/2016 - 0s - loss: 0.0539 - accuracy: 0.9777\n",
      "[[6, 6, 8, 2, 6, 6, 6, 6, 6, 6, 2, 4, 4, 4, 8, 6, 4, 4, 6, 6, 6, 6, 6, 2, 6, 4, 2, 6, 8, 6, 4, 6, 10, 4, 4, 6, 2, 8, 4, 6, 8, 6, 6, 6, 6, 6, 6, 6, 4, 2, 4, 8, 4, 4, 2, 6, 6, 6, 6, 4, 4, 4, 10, 2, 8, 2, 6, 6, 6, 6, 4, 6, 6, 4, 6, 6, 10, 6, 4, 4, 6, 6, 6, 6, 6, 6, 4, 4, 4, 6, 6, 6, 6, 8, 4, 6, 4, 6, 6, 6], [8, 6, 10, 2, 4, 4, 4, 6, 4, 4, 4, 4, 4, 4, 8, 4, 4, 4, 4, 4, 6, 4, 6, 2, 4, 4, 2, 4, 10, 6, 4, 4, 10, 4, 4, 4, 4, 10, 6, 6, 8, 6, 4, 6, 4, 6, 4, 4, 4, 2, 4, 10, 4, 4, 4, 4, 6, 4, 6, 4, 6, 4, 12, 2, 10, 2, 6, 6, 6, 4, 4, 8, 6, 4, 4, 4, 10, 4, 4, 4, 6, 4, 4, 4, 4, 8, 6, 4, 4, 4, 6, 4, 6, 8, 6, 4, 6, 4, 4, 6], [8, 6, 10, 2, 4, 4, 4, 6, 4, 4, 4, 4, 6, 4, 10, 4, 4, 6, 4, 4, 8, 4, 6, 2, 4, 4, 0, 4, 10, 6, 4, 4, 10, 4, 6, 6, 4, 10, 6, 6, 8, 6, 4, 6, 4, 6, 4, 4, 6, 2, 4, 10, 6, 4, 4, 4, 6, 4, 6, 6, 6, 6, 12, 4, 10, 2, 6, 6, 6, 4, 4, 8, 8, 4, 4, 4, 10, 4, 4, 4, 8, 4, 4, 4, 4, 8, 6, 2, 4, 4, 6, 4, 6, 8, 6, 4, 6, 4, 4, 6], [10, 6, 10, 2, 6, 6, 6, 8, 6, 6, 4, 6, 4, 4, 10, 6, 4, 4, 6, 6, 8, 6, 8, 2, 6, 4, 0, 6, 12, 8, 4, 6, 12, 4, 4, 6, 6, 12, 6, 8, 10, 8, 6, 8, 6, 8, 6, 6, 6, 2, 4, 12, 4, 4, 4, 6, 8, 6, 8, 6, 8, 6, 14, 4, 12, 2, 8, 8, 6, 6, 4, 8, 8, 4, 6, 6, 10, 6, 6, 4, 8, 6, 6, 6, 6, 8, 6, 2, 4, 6, 8, 6, 8, 8, 6, 6, 6, 6, 6, 8], [12, 6, 10, 2, 6, 6, 6, 8, 6, 6, 4, 6, 4, 4, 10, 6, 6, 4, 6, 6, 10, 6, 8, 4, 6, 4, 0, 6, 14, 6, 4, 6, 10, 2, 4, 6, 4, 12, 6, 8, 10, 8, 6, 6, 6, 8, 6, 6, 6, 2, 4, 14, 4, 6, 4, 6, 8, 6, 8, 6, 6, 6, 12, 4, 14, 2, 8, 8, 8, 6, 4, 10, 8, 2, 6, 6, 12, 6, 4, 4, 8, 6, 6, 6, 6, 10, 6, 4, 4, 6, 8, 6, 8, 8, 6, 6, 6, 6, 6, 8], [12, 6, 10, 0, 6, 6, 6, 8, 6, 6, 4, 6, 6, 4, 10, 6, 6, 6, 6, 6, 10, 6, 8, 4, 6, 4, 0, 6, 14, 6, 4, 6, 10, 4, 6, 6, 4, 12, 6, 8, 10, 8, 6, 6, 6, 8, 6, 6, 6, 2, 4, 14, 6, 6, 4, 6, 8, 6, 8, 6, 6, 6, 12, 4, 14, 2, 8, 8, 8, 6, 4, 10, 8, 4, 6, 6, 12, 6, 4, 4, 8, 6, 6, 6, 6, 10, 6, 4, 4, 6, 8, 6, 10, 8, 8, 6, 8, 6, 6, 8], [12, 6, 10, 0, 6, 6, 6, 8, 6, 6, 4, 6, 6, 4, 10, 6, 6, 6, 6, 6, 10, 6, 8, 4, 6, 4, 0, 6, 14, 6, 4, 6, 10, 2, 6, 8, 6, 12, 6, 8, 10, 8, 6, 6, 6, 8, 6, 6, 6, 2, 4, 14, 6, 6, 4, 6, 8, 6, 8, 6, 8, 6, 12, 4, 14, 2, 8, 8, 8, 6, 4, 10, 10, 2, 6, 6, 12, 6, 6, 4, 10, 6, 6, 6, 6, 10, 6, 2, 4, 6, 8, 6, 10, 8, 8, 6, 8, 6, 6, 8], [12, 6, 26, 0, 6, 6, 6, 8, 6, 6, 4, 6, 6, 4, 10, 6, 6, 6, 6, 6, 10, 6, 8, 4, 6, 4, 0, 6, 14, 6, 4, 6, 24, 2, 6, 6, 4, 12, 6, 8, 10, 8, 6, 6, 6, 8, 6, 6, 6, 2, 4, 14, 6, 6, 4, 6, 8, 6, 8, 6, 8, 6, 16, 4, 14, 2, 8, 8, 8, 6, 4, 10, 10, 2, 6, 6, 12, 6, 6, 4, 10, 6, 6, 6, 6, 10, 6, 4, 4, 6, 8, 6, 10, 8, 8, 6, 8, 6, 6, 8], [12, 6, 10, 0, 6, 6, 6, 8, 6, 6, 4, 6, 6, 4, 10, 6, 6, 6, 6, 6, 10, 6, 6, 4, 6, 4, 0, 6, 14, 6, 4, 6, 12, 2, 6, 8, 4, 12, 6, 8, 10, 6, 6, 6, 6, 8, 6, 6, 6, 4, 4, 14, 6, 6, 4, 6, 8, 6, 8, 6, 6, 6, 12, 4, 14, 0, 8, 8, 8, 6, 2, 10, 8, 2, 6, 6, 12, 6, 6, 2, 8, 6, 6, 6, 6, 10, 6, 4, 2, 6, 8, 6, 8, 8, 8, 6, 8, 6, 6, 8], [12, 6, 10, 0, 6, 6, 6, 8, 6, 6, 4, 6, 6, 4, 10, 6, 6, 6, 6, 6, 10, 6, 6, 4, 6, 4, 0, 6, 14, 6, 4, 6, 10, 2, 6, 8, 4, 12, 6, 10, 10, 6, 6, 6, 6, 10, 6, 6, 8, 4, 4, 14, 6, 6, 4, 6, 10, 6, 10, 8, 6, 6, 12, 4, 14, 0, 8, 8, 8, 6, 2, 10, 8, 2, 6, 6, 12, 6, 4, 2, 8, 6, 6, 6, 6, 10, 6, 4, 2, 6, 10, 6, 8, 10, 8, 6, 8, 6, 6, 8], [12, 6, 10, 0, 6, 6, 6, 8, 6, 6, 4, 6, 6, 4, 10, 6, 6, 6, 6, 6, 10, 6, 6, 4, 6, 4, 0, 6, 14, 6, 4, 6, 12, 2, 6, 8, 4, 12, 6, 10, 10, 6, 6, 6, 6, 10, 6, 6, 8, 4, 4, 14, 6, 6, 4, 6, 10, 6, 10, 8, 8, 6, 12, 4, 14, 0, 8, 8, 8, 6, 2, 12, 10, 2, 6, 6, 14, 6, 6, 2, 10, 6, 6, 6, 6, 10, 6, 4, 2, 6, 10, 6, 8, 10, 8, 6, 8, 6, 6, 8], [12, 6, 10, 0, 6, 6, 6, 8, 6, 6, 4, 6, 6, 4, 10, 6, 6, 6, 6, 6, 10, 6, 6, 4, 6, 4, 0, 6, 14, 6, 4, 6, 12, 2, 6, 8, 4, 12, 6, 10, 10, 6, 6, 6, 6, 10, 6, 6, 8, 4, 4, 14, 6, 6, 4, 6, 10, 6, 10, 8, 8, 6, 12, 4, 14, 0, 10, 10, 8, 6, 2, 12, 10, 2, 6, 6, 12, 6, 6, 2, 10, 6, 6, 6, 6, 10, 6, 4, 2, 6, 10, 6, 8, 10, 8, 6, 8, 6, 6, 8], [14, 6, 12, 0, 6, 6, 6, 8, 6, 6, 4, 6, 8, 4, 12, 6, 6, 8, 6, 6, 10, 6, 6, 4, 6, 4, 0, 6, 14, 6, 4, 6, 12, 4, 8, 8, 6, 14, 6, 10, 10, 6, 6, 6, 6, 10, 6, 6, 8, 4, 4, 14, 8, 6, 4, 6, 10, 6, 10, 8, 8, 6, 14, 2, 14, 0, 10, 10, 8, 6, 2, 12, 10, 4, 6, 6, 12, 6, 6, 2, 10, 6, 6, 6, 6, 10, 6, 4, 2, 6, 10, 6, 10, 10, 8, 6, 8, 6, 6, 8], [16, 6, 12, 0, 6, 6, 6, 8, 6, 6, 2, 4, 8, 4, 12, 6, 6, 8, 6, 6, 10, 6, 6, 6, 6, 4, 0, 6, 16, 6, 6, 6, 12, 4, 8, 10, 6, 14, 6, 8, 10, 6, 6, 6, 6, 8, 6, 6, 6, 4, 4, 16, 8, 6, 2, 6, 8, 6, 8, 6, 8, 6, 16, 4, 16, 0, 10, 10, 10, 6, 2, 12, 10, 4, 6, 6, 14, 6, 6, 2, 10, 6, 6, 6, 6, 10, 6, 6, 2, 6, 8, 6, 10, 12, 8, 6, 8, 6, 6, 10], [14, 6, 10, 0, 6, 6, 6, 8, 6, 6, 4, 2, 8, 4, 12, 6, 8, 8, 6, 6, 10, 6, 6, 4, 6, 4, 0, 6, 14, 6, 6, 6, 12, 4, 8, 10, 6, 14, 6, 8, 10, 6, 6, 6, 6, 8, 6, 6, 6, 4, 4, 14, 8, 8, 4, 6, 8, 6, 8, 6, 6, 6, 12, 4, 14, 0, 10, 10, 10, 6, 2, 12, 8, 4, 6, 6, 14, 6, 6, 2, 8, 6, 6, 6, 6, 10, 6, 6, 2, 6, 8, 6, 10, 12, 8, 6, 8, 6, 6, 8]]\n",
      "0.24881794\n",
      "2016/2016 - 0s - loss: 0.0947 - accuracy: 0.9464\n",
      "[[6, 6, 8, 2, 6, 6, 6, 6, 6, 6, 2, 4, 4, 4, 8, 6, 4, 4, 6, 6, 6, 6, 6, 2, 6, 4, 2, 6, 8, 6, 4, 6, 10, 4, 4, 6, 2, 8, 4, 6, 8, 6, 6, 6, 6, 6, 6, 6, 4, 2, 4, 8, 4, 4, 2, 6, 6, 6, 6, 4, 4, 4, 10, 2, 8, 2, 6, 6, 6, 6, 4, 6, 6, 4, 6, 6, 10, 6, 4, 4, 6, 6, 6, 6, 6, 6, 4, 4, 4, 6, 6, 6, 6, 8, 4, 6, 4, 6, 6, 6], [8, 6, 10, 2, 4, 4, 4, 6, 4, 4, 4, 4, 4, 4, 8, 4, 4, 4, 4, 4, 6, 4, 6, 2, 4, 4, 2, 4, 10, 6, 4, 4, 10, 4, 4, 4, 4, 10, 6, 6, 8, 6, 4, 6, 4, 6, 4, 4, 4, 2, 4, 10, 4, 4, 4, 4, 6, 4, 6, 4, 6, 4, 12, 2, 10, 2, 6, 6, 6, 4, 4, 8, 6, 4, 4, 4, 10, 4, 4, 4, 6, 4, 4, 4, 4, 8, 6, 4, 4, 4, 6, 4, 6, 8, 6, 4, 6, 4, 4, 6], [8, 6, 10, 2, 4, 4, 4, 6, 4, 4, 4, 4, 6, 4, 10, 4, 4, 6, 4, 4, 8, 4, 6, 2, 4, 4, 0, 4, 10, 6, 4, 4, 10, 4, 6, 6, 4, 10, 6, 6, 8, 6, 4, 6, 4, 6, 4, 4, 6, 2, 4, 10, 6, 4, 4, 4, 6, 4, 6, 6, 6, 6, 12, 4, 10, 2, 6, 6, 6, 4, 4, 8, 8, 4, 4, 4, 10, 4, 4, 4, 8, 4, 4, 4, 4, 8, 6, 2, 4, 4, 6, 4, 6, 8, 6, 4, 6, 4, 4, 6], [10, 6, 10, 2, 6, 6, 6, 8, 6, 6, 4, 6, 4, 4, 10, 6, 4, 4, 6, 6, 8, 6, 8, 2, 6, 4, 0, 6, 12, 8, 4, 6, 12, 4, 4, 6, 6, 12, 6, 8, 10, 8, 6, 8, 6, 8, 6, 6, 6, 2, 4, 12, 4, 4, 4, 6, 8, 6, 8, 6, 8, 6, 14, 4, 12, 2, 8, 8, 6, 6, 4, 8, 8, 4, 6, 6, 10, 6, 6, 4, 8, 6, 6, 6, 6, 8, 6, 2, 4, 6, 8, 6, 8, 8, 6, 6, 6, 6, 6, 8], [12, 6, 10, 2, 6, 6, 6, 8, 6, 6, 4, 6, 4, 4, 10, 6, 6, 4, 6, 6, 10, 6, 8, 4, 6, 4, 0, 6, 14, 6, 4, 6, 10, 2, 4, 6, 4, 12, 6, 8, 10, 8, 6, 6, 6, 8, 6, 6, 6, 2, 4, 14, 4, 6, 4, 6, 8, 6, 8, 6, 6, 6, 12, 4, 14, 2, 8, 8, 8, 6, 4, 10, 8, 2, 6, 6, 12, 6, 4, 4, 8, 6, 6, 6, 6, 10, 6, 4, 4, 6, 8, 6, 8, 8, 6, 6, 6, 6, 6, 8], [12, 6, 10, 0, 6, 6, 6, 8, 6, 6, 4, 6, 6, 4, 10, 6, 6, 6, 6, 6, 10, 6, 8, 4, 6, 4, 0, 6, 14, 6, 4, 6, 10, 4, 6, 6, 4, 12, 6, 8, 10, 8, 6, 6, 6, 8, 6, 6, 6, 2, 4, 14, 6, 6, 4, 6, 8, 6, 8, 6, 6, 6, 12, 4, 14, 2, 8, 8, 8, 6, 4, 10, 8, 4, 6, 6, 12, 6, 4, 4, 8, 6, 6, 6, 6, 10, 6, 4, 4, 6, 8, 6, 10, 8, 8, 6, 8, 6, 6, 8], [12, 6, 10, 0, 6, 6, 6, 8, 6, 6, 4, 6, 6, 4, 10, 6, 6, 6, 6, 6, 10, 6, 8, 4, 6, 4, 0, 6, 14, 6, 4, 6, 10, 2, 6, 8, 6, 12, 6, 8, 10, 8, 6, 6, 6, 8, 6, 6, 6, 2, 4, 14, 6, 6, 4, 6, 8, 6, 8, 6, 8, 6, 12, 4, 14, 2, 8, 8, 8, 6, 4, 10, 10, 2, 6, 6, 12, 6, 6, 4, 10, 6, 6, 6, 6, 10, 6, 2, 4, 6, 8, 6, 10, 8, 8, 6, 8, 6, 6, 8], [12, 6, 26, 0, 6, 6, 6, 8, 6, 6, 4, 6, 6, 4, 10, 6, 6, 6, 6, 6, 10, 6, 8, 4, 6, 4, 0, 6, 14, 6, 4, 6, 24, 2, 6, 6, 4, 12, 6, 8, 10, 8, 6, 6, 6, 8, 6, 6, 6, 2, 4, 14, 6, 6, 4, 6, 8, 6, 8, 6, 8, 6, 16, 4, 14, 2, 8, 8, 8, 6, 4, 10, 10, 2, 6, 6, 12, 6, 6, 4, 10, 6, 6, 6, 6, 10, 6, 4, 4, 6, 8, 6, 10, 8, 8, 6, 8, 6, 6, 8], [12, 6, 10, 0, 6, 6, 6, 8, 6, 6, 4, 6, 6, 4, 10, 6, 6, 6, 6, 6, 10, 6, 6, 4, 6, 4, 0, 6, 14, 6, 4, 6, 12, 2, 6, 8, 4, 12, 6, 8, 10, 6, 6, 6, 6, 8, 6, 6, 6, 4, 4, 14, 6, 6, 4, 6, 8, 6, 8, 6, 6, 6, 12, 4, 14, 0, 8, 8, 8, 6, 2, 10, 8, 2, 6, 6, 12, 6, 6, 2, 8, 6, 6, 6, 6, 10, 6, 4, 2, 6, 8, 6, 8, 8, 8, 6, 8, 6, 6, 8], [12, 6, 10, 0, 6, 6, 6, 8, 6, 6, 4, 6, 6, 4, 10, 6, 6, 6, 6, 6, 10, 6, 6, 4, 6, 4, 0, 6, 14, 6, 4, 6, 10, 2, 6, 8, 4, 12, 6, 10, 10, 6, 6, 6, 6, 10, 6, 6, 8, 4, 4, 14, 6, 6, 4, 6, 10, 6, 10, 8, 6, 6, 12, 4, 14, 0, 8, 8, 8, 6, 2, 10, 8, 2, 6, 6, 12, 6, 4, 2, 8, 6, 6, 6, 6, 10, 6, 4, 2, 6, 10, 6, 8, 10, 8, 6, 8, 6, 6, 8], [12, 6, 10, 0, 6, 6, 6, 8, 6, 6, 4, 6, 6, 4, 10, 6, 6, 6, 6, 6, 10, 6, 6, 4, 6, 4, 0, 6, 14, 6, 4, 6, 12, 2, 6, 8, 4, 12, 6, 10, 10, 6, 6, 6, 6, 10, 6, 6, 8, 4, 4, 14, 6, 6, 4, 6, 10, 6, 10, 8, 8, 6, 12, 4, 14, 0, 8, 8, 8, 6, 2, 12, 10, 2, 6, 6, 14, 6, 6, 2, 10, 6, 6, 6, 6, 10, 6, 4, 2, 6, 10, 6, 8, 10, 8, 6, 8, 6, 6, 8], [12, 6, 10, 0, 6, 6, 6, 8, 6, 6, 4, 6, 6, 4, 10, 6, 6, 6, 6, 6, 10, 6, 6, 4, 6, 4, 0, 6, 14, 6, 4, 6, 12, 2, 6, 8, 4, 12, 6, 10, 10, 6, 6, 6, 6, 10, 6, 6, 8, 4, 4, 14, 6, 6, 4, 6, 10, 6, 10, 8, 8, 6, 12, 4, 14, 0, 10, 10, 8, 6, 2, 12, 10, 2, 6, 6, 12, 6, 6, 2, 10, 6, 6, 6, 6, 10, 6, 4, 2, 6, 10, 6, 8, 10, 8, 6, 8, 6, 6, 8], [14, 6, 12, 0, 6, 6, 6, 8, 6, 6, 4, 6, 8, 4, 12, 6, 6, 8, 6, 6, 10, 6, 6, 4, 6, 4, 0, 6, 14, 6, 4, 6, 12, 4, 8, 8, 6, 14, 6, 10, 10, 6, 6, 6, 6, 10, 6, 6, 8, 4, 4, 14, 8, 6, 4, 6, 10, 6, 10, 8, 8, 6, 14, 2, 14, 0, 10, 10, 8, 6, 2, 12, 10, 4, 6, 6, 12, 6, 6, 2, 10, 6, 6, 6, 6, 10, 6, 4, 2, 6, 10, 6, 10, 10, 8, 6, 8, 6, 6, 8], [16, 6, 12, 0, 6, 6, 6, 8, 6, 6, 2, 4, 8, 4, 12, 6, 6, 8, 6, 6, 10, 6, 6, 6, 6, 4, 0, 6, 16, 6, 6, 6, 12, 4, 8, 10, 6, 14, 6, 8, 10, 6, 6, 6, 6, 8, 6, 6, 6, 4, 4, 16, 8, 6, 2, 6, 8, 6, 8, 6, 8, 6, 16, 4, 16, 0, 10, 10, 10, 6, 2, 12, 10, 4, 6, 6, 14, 6, 6, 2, 10, 6, 6, 6, 6, 10, 6, 6, 2, 6, 8, 6, 10, 12, 8, 6, 8, 6, 6, 10], [14, 6, 10, 0, 6, 6, 6, 8, 6, 6, 4, 2, 8, 4, 12, 6, 8, 8, 6, 6, 10, 6, 6, 4, 6, 4, 0, 6, 14, 6, 6, 6, 12, 4, 8, 10, 6, 14, 6, 8, 10, 6, 6, 6, 6, 8, 6, 6, 6, 4, 4, 14, 8, 8, 4, 6, 8, 6, 8, 6, 6, 6, 12, 4, 14, 0, 10, 10, 10, 6, 2, 12, 8, 4, 6, 6, 14, 6, 6, 2, 8, 6, 6, 6, 6, 10, 6, 6, 2, 6, 8, 6, 10, 12, 8, 6, 8, 6, 6, 8], [16, 6, 10, 0, 6, 6, 6, 6, 6, 6, 4, 2, 8, 4, 12, 6, 8, 8, 6, 6, 10, 6, 6, 6, 6, 4, 0, 6, 14, 6, 4, 6, 12, 4, 8, 10, 4, 14, 6, 8, 10, 6, 6, 6, 6, 8, 6, 6, 6, 4, 4, 14, 8, 8, 4, 6, 8, 6, 8, 6, 6, 6, 12, 2, 14, 0, 12, 12, 10, 6, 0, 12, 8, 4, 6, 6, 14, 6, 6, 0, 8, 6, 6, 6, 6, 10, 6, 8, 0, 6, 8, 6, 8, 12, 8, 6, 8, 6, 6, 6]]\n",
      "0.2417419\n",
      "2016/2016 - 0s - loss: 0.1073 - accuracy: 0.9430\n",
      "[[6, 6, 8, 2, 6, 6, 6, 6, 6, 6, 2, 4, 4, 4, 8, 6, 4, 4, 6, 6, 6, 6, 6, 2, 6, 4, 2, 6, 8, 6, 4, 6, 10, 4, 4, 6, 2, 8, 4, 6, 8, 6, 6, 6, 6, 6, 6, 6, 4, 2, 4, 8, 4, 4, 2, 6, 6, 6, 6, 4, 4, 4, 10, 2, 8, 2, 6, 6, 6, 6, 4, 6, 6, 4, 6, 6, 10, 6, 4, 4, 6, 6, 6, 6, 6, 6, 4, 4, 4, 6, 6, 6, 6, 8, 4, 6, 4, 6, 6, 6], [8, 6, 10, 2, 4, 4, 4, 6, 4, 4, 4, 4, 4, 4, 8, 4, 4, 4, 4, 4, 6, 4, 6, 2, 4, 4, 2, 4, 10, 6, 4, 4, 10, 4, 4, 4, 4, 10, 6, 6, 8, 6, 4, 6, 4, 6, 4, 4, 4, 2, 4, 10, 4, 4, 4, 4, 6, 4, 6, 4, 6, 4, 12, 2, 10, 2, 6, 6, 6, 4, 4, 8, 6, 4, 4, 4, 10, 4, 4, 4, 6, 4, 4, 4, 4, 8, 6, 4, 4, 4, 6, 4, 6, 8, 6, 4, 6, 4, 4, 6], [8, 6, 10, 2, 4, 4, 4, 6, 4, 4, 4, 4, 6, 4, 10, 4, 4, 6, 4, 4, 8, 4, 6, 2, 4, 4, 0, 4, 10, 6, 4, 4, 10, 4, 6, 6, 4, 10, 6, 6, 8, 6, 4, 6, 4, 6, 4, 4, 6, 2, 4, 10, 6, 4, 4, 4, 6, 4, 6, 6, 6, 6, 12, 4, 10, 2, 6, 6, 6, 4, 4, 8, 8, 4, 4, 4, 10, 4, 4, 4, 8, 4, 4, 4, 4, 8, 6, 2, 4, 4, 6, 4, 6, 8, 6, 4, 6, 4, 4, 6], [10, 6, 10, 2, 6, 6, 6, 8, 6, 6, 4, 6, 4, 4, 10, 6, 4, 4, 6, 6, 8, 6, 8, 2, 6, 4, 0, 6, 12, 8, 4, 6, 12, 4, 4, 6, 6, 12, 6, 8, 10, 8, 6, 8, 6, 8, 6, 6, 6, 2, 4, 12, 4, 4, 4, 6, 8, 6, 8, 6, 8, 6, 14, 4, 12, 2, 8, 8, 6, 6, 4, 8, 8, 4, 6, 6, 10, 6, 6, 4, 8, 6, 6, 6, 6, 8, 6, 2, 4, 6, 8, 6, 8, 8, 6, 6, 6, 6, 6, 8], [12, 6, 10, 2, 6, 6, 6, 8, 6, 6, 4, 6, 4, 4, 10, 6, 6, 4, 6, 6, 10, 6, 8, 4, 6, 4, 0, 6, 14, 6, 4, 6, 10, 2, 4, 6, 4, 12, 6, 8, 10, 8, 6, 6, 6, 8, 6, 6, 6, 2, 4, 14, 4, 6, 4, 6, 8, 6, 8, 6, 6, 6, 12, 4, 14, 2, 8, 8, 8, 6, 4, 10, 8, 2, 6, 6, 12, 6, 4, 4, 8, 6, 6, 6, 6, 10, 6, 4, 4, 6, 8, 6, 8, 8, 6, 6, 6, 6, 6, 8], [12, 6, 10, 0, 6, 6, 6, 8, 6, 6, 4, 6, 6, 4, 10, 6, 6, 6, 6, 6, 10, 6, 8, 4, 6, 4, 0, 6, 14, 6, 4, 6, 10, 4, 6, 6, 4, 12, 6, 8, 10, 8, 6, 6, 6, 8, 6, 6, 6, 2, 4, 14, 6, 6, 4, 6, 8, 6, 8, 6, 6, 6, 12, 4, 14, 2, 8, 8, 8, 6, 4, 10, 8, 4, 6, 6, 12, 6, 4, 4, 8, 6, 6, 6, 6, 10, 6, 4, 4, 6, 8, 6, 10, 8, 8, 6, 8, 6, 6, 8], [12, 6, 10, 0, 6, 6, 6, 8, 6, 6, 4, 6, 6, 4, 10, 6, 6, 6, 6, 6, 10, 6, 8, 4, 6, 4, 0, 6, 14, 6, 4, 6, 10, 2, 6, 8, 6, 12, 6, 8, 10, 8, 6, 6, 6, 8, 6, 6, 6, 2, 4, 14, 6, 6, 4, 6, 8, 6, 8, 6, 8, 6, 12, 4, 14, 2, 8, 8, 8, 6, 4, 10, 10, 2, 6, 6, 12, 6, 6, 4, 10, 6, 6, 6, 6, 10, 6, 2, 4, 6, 8, 6, 10, 8, 8, 6, 8, 6, 6, 8], [12, 6, 26, 0, 6, 6, 6, 8, 6, 6, 4, 6, 6, 4, 10, 6, 6, 6, 6, 6, 10, 6, 8, 4, 6, 4, 0, 6, 14, 6, 4, 6, 24, 2, 6, 6, 4, 12, 6, 8, 10, 8, 6, 6, 6, 8, 6, 6, 6, 2, 4, 14, 6, 6, 4, 6, 8, 6, 8, 6, 8, 6, 16, 4, 14, 2, 8, 8, 8, 6, 4, 10, 10, 2, 6, 6, 12, 6, 6, 4, 10, 6, 6, 6, 6, 10, 6, 4, 4, 6, 8, 6, 10, 8, 8, 6, 8, 6, 6, 8], [12, 6, 10, 0, 6, 6, 6, 8, 6, 6, 4, 6, 6, 4, 10, 6, 6, 6, 6, 6, 10, 6, 6, 4, 6, 4, 0, 6, 14, 6, 4, 6, 12, 2, 6, 8, 4, 12, 6, 8, 10, 6, 6, 6, 6, 8, 6, 6, 6, 4, 4, 14, 6, 6, 4, 6, 8, 6, 8, 6, 6, 6, 12, 4, 14, 0, 8, 8, 8, 6, 2, 10, 8, 2, 6, 6, 12, 6, 6, 2, 8, 6, 6, 6, 6, 10, 6, 4, 2, 6, 8, 6, 8, 8, 8, 6, 8, 6, 6, 8], [12, 6, 10, 0, 6, 6, 6, 8, 6, 6, 4, 6, 6, 4, 10, 6, 6, 6, 6, 6, 10, 6, 6, 4, 6, 4, 0, 6, 14, 6, 4, 6, 10, 2, 6, 8, 4, 12, 6, 10, 10, 6, 6, 6, 6, 10, 6, 6, 8, 4, 4, 14, 6, 6, 4, 6, 10, 6, 10, 8, 6, 6, 12, 4, 14, 0, 8, 8, 8, 6, 2, 10, 8, 2, 6, 6, 12, 6, 4, 2, 8, 6, 6, 6, 6, 10, 6, 4, 2, 6, 10, 6, 8, 10, 8, 6, 8, 6, 6, 8], [12, 6, 10, 0, 6, 6, 6, 8, 6, 6, 4, 6, 6, 4, 10, 6, 6, 6, 6, 6, 10, 6, 6, 4, 6, 4, 0, 6, 14, 6, 4, 6, 12, 2, 6, 8, 4, 12, 6, 10, 10, 6, 6, 6, 6, 10, 6, 6, 8, 4, 4, 14, 6, 6, 4, 6, 10, 6, 10, 8, 8, 6, 12, 4, 14, 0, 8, 8, 8, 6, 2, 12, 10, 2, 6, 6, 14, 6, 6, 2, 10, 6, 6, 6, 6, 10, 6, 4, 2, 6, 10, 6, 8, 10, 8, 6, 8, 6, 6, 8], [12, 6, 10, 0, 6, 6, 6, 8, 6, 6, 4, 6, 6, 4, 10, 6, 6, 6, 6, 6, 10, 6, 6, 4, 6, 4, 0, 6, 14, 6, 4, 6, 12, 2, 6, 8, 4, 12, 6, 10, 10, 6, 6, 6, 6, 10, 6, 6, 8, 4, 4, 14, 6, 6, 4, 6, 10, 6, 10, 8, 8, 6, 12, 4, 14, 0, 10, 10, 8, 6, 2, 12, 10, 2, 6, 6, 12, 6, 6, 2, 10, 6, 6, 6, 6, 10, 6, 4, 2, 6, 10, 6, 8, 10, 8, 6, 8, 6, 6, 8], [14, 6, 12, 0, 6, 6, 6, 8, 6, 6, 4, 6, 8, 4, 12, 6, 6, 8, 6, 6, 10, 6, 6, 4, 6, 4, 0, 6, 14, 6, 4, 6, 12, 4, 8, 8, 6, 14, 6, 10, 10, 6, 6, 6, 6, 10, 6, 6, 8, 4, 4, 14, 8, 6, 4, 6, 10, 6, 10, 8, 8, 6, 14, 2, 14, 0, 10, 10, 8, 6, 2, 12, 10, 4, 6, 6, 12, 6, 6, 2, 10, 6, 6, 6, 6, 10, 6, 4, 2, 6, 10, 6, 10, 10, 8, 6, 8, 6, 6, 8], [16, 6, 12, 0, 6, 6, 6, 8, 6, 6, 2, 4, 8, 4, 12, 6, 6, 8, 6, 6, 10, 6, 6, 6, 6, 4, 0, 6, 16, 6, 6, 6, 12, 4, 8, 10, 6, 14, 6, 8, 10, 6, 6, 6, 6, 8, 6, 6, 6, 4, 4, 16, 8, 6, 2, 6, 8, 6, 8, 6, 8, 6, 16, 4, 16, 0, 10, 10, 10, 6, 2, 12, 10, 4, 6, 6, 14, 6, 6, 2, 10, 6, 6, 6, 6, 10, 6, 6, 2, 6, 8, 6, 10, 12, 8, 6, 8, 6, 6, 10], [14, 6, 10, 0, 6, 6, 6, 8, 6, 6, 4, 2, 8, 4, 12, 6, 8, 8, 6, 6, 10, 6, 6, 4, 6, 4, 0, 6, 14, 6, 6, 6, 12, 4, 8, 10, 6, 14, 6, 8, 10, 6, 6, 6, 6, 8, 6, 6, 6, 4, 4, 14, 8, 8, 4, 6, 8, 6, 8, 6, 6, 6, 12, 4, 14, 0, 10, 10, 10, 6, 2, 12, 8, 4, 6, 6, 14, 6, 6, 2, 8, 6, 6, 6, 6, 10, 6, 6, 2, 6, 8, 6, 10, 12, 8, 6, 8, 6, 6, 8], [16, 6, 10, 0, 6, 6, 6, 6, 6, 6, 4, 2, 8, 4, 12, 6, 8, 8, 6, 6, 10, 6, 6, 6, 6, 4, 0, 6, 14, 6, 4, 6, 12, 4, 8, 10, 4, 14, 6, 8, 10, 6, 6, 6, 6, 8, 6, 6, 6, 4, 4, 14, 8, 8, 4, 6, 8, 6, 8, 6, 6, 6, 12, 2, 14, 0, 12, 12, 10, 6, 0, 12, 8, 4, 6, 6, 14, 6, 6, 0, 8, 6, 6, 6, 6, 10, 6, 8, 0, 6, 8, 6, 8, 12, 8, 6, 8, 6, 6, 6], [14, 6, 10, 0, 6, 6, 6, 8, 6, 6, 4, 2, 8, 4, 12, 6, 8, 8, 6, 6, 10, 6, 8, 4, 6, 4, 0, 6, 14, 6, 6, 6, 12, 4, 8, 10, 4, 12, 6, 8, 10, 8, 6, 6, 6, 8, 6, 6, 6, 4, 2, 14, 8, 8, 4, 6, 8, 6, 8, 6, 6, 6, 12, 2, 14, 0, 10, 10, 10, 6, 0, 12, 8, 4, 6, 6, 14, 6, 6, 0, 8, 6, 6, 6, 6, 10, 6, 8, 0, 6, 8, 6, 10, 12, 8, 6, 8, 6, 6, 8]]\n"
     ]
    }
   ],
   "source": [
    "# now, stabilize the neurons in order of increasing epsilons\n",
    "\n",
    "min_norms = []\n",
    "\n",
    "# run on the un-stabilized model first\n",
    "min_norms.append(run_attack())\n",
    "losses = []\n",
    "accuracies = []\n",
    "\n",
    "loss, accuracy = model.evaluate(x_test, y_test, verbose=2)\n",
    "\n",
    "losses.append(loss)\n",
    "accuracies.append(accuracy)\n",
    "\n",
    "for changed_count, index in enumerate(order_of_indices):\n",
    "    print(epsilons_list[index])\n",
    "    all_weights = model.get_weights()\n",
    "    layer_weights = all_weights[0]\n",
    "    neuron_weights = layer_weights[:, index]\n",
    "    l_inf_norm = tf.norm(neuron_weights, ord=np.inf)\n",
    "\n",
    "    new_neuron_weights = tf.math.sign(neuron_weights) * l_inf_norm\n",
    "\n",
    "    layer_weights[:, index] = new_neuron_weights\n",
    "\n",
    "    all_weights[0] = layer_weights\n",
    "\n",
    "    model.set_weights(all_weights)\n",
    "\n",
    "    # todo, perhaps train biases as part of this loop?\n",
    "\n",
    "    loss, accuracy = model.evaluate(x_test, y_test, verbose=2)\n",
    "\n",
    "    losses.append(loss)\n",
    "    accuracies.append(accuracy)\n",
    "\n",
    "    # now, do an adversarial test\n",
    "    # let's just run custom JSMA here\n",
    "    min_norms.append(run_attack())\n",
    "    print(min_norms)\n"
   ],
   "metadata": {
    "collapsed": false,
    "pycharm": {
     "name": "#%%\n"
    }
   }
  },
  {
   "cell_type": "code",
   "execution_count": 9,
   "outputs": [],
   "source": [
    "all_weights_at_end = model.get_weights()"
   ],
   "metadata": {
    "collapsed": false,
    "pycharm": {
     "name": "#%%\n"
    }
   }
  },
  {
   "cell_type": "code",
   "execution_count": 10,
   "outputs": [
    {
     "name": "stdout",
     "output_type": "stream",
     "text": [
      "[[6, 6, 8, 2, 6, 6, 6, 6, 6, 6, 2, 4, 4, 4, 8, 6, 4, 4, 6, 6, 6, 6, 6, 2, 6, 4, 2, 6, 8, 6, 4, 6, 10, 4, 4, 6, 2, 8, 4, 6, 8, 6, 6, 6, 6, 6, 6, 6, 4, 2, 4, 8, 4, 4, 2, 6, 6, 6, 6, 4, 4, 4, 10, 2, 8, 2, 6, 6, 6, 6, 4, 6, 6, 4, 6, 6, 10, 6, 4, 4, 6, 6, 6, 6, 6, 6, 4, 4, 4, 6, 6, 6, 6, 8, 4, 6, 4, 6, 6, 6], [8, 6, 10, 2, 4, 4, 4, 6, 4, 4, 4, 4, 4, 4, 8, 4, 4, 4, 4, 4, 6, 4, 6, 2, 4, 4, 2, 4, 10, 6, 4, 4, 10, 4, 4, 4, 4, 10, 6, 6, 8, 6, 4, 6, 4, 6, 4, 4, 4, 2, 4, 10, 4, 4, 4, 4, 6, 4, 6, 4, 6, 4, 12, 2, 10, 2, 6, 6, 6, 4, 4, 8, 6, 4, 4, 4, 10, 4, 4, 4, 6, 4, 4, 4, 4, 8, 6, 4, 4, 4, 6, 4, 6, 8, 6, 4, 6, 4, 4, 6], [8, 6, 10, 2, 4, 4, 4, 6, 4, 4, 4, 4, 6, 4, 10, 4, 4, 6, 4, 4, 8, 4, 6, 2, 4, 4, 0, 4, 10, 6, 4, 4, 10, 4, 6, 6, 4, 10, 6, 6, 8, 6, 4, 6, 4, 6, 4, 4, 6, 2, 4, 10, 6, 4, 4, 4, 6, 4, 6, 6, 6, 6, 12, 4, 10, 2, 6, 6, 6, 4, 4, 8, 8, 4, 4, 4, 10, 4, 4, 4, 8, 4, 4, 4, 4, 8, 6, 2, 4, 4, 6, 4, 6, 8, 6, 4, 6, 4, 4, 6], [10, 6, 10, 2, 6, 6, 6, 8, 6, 6, 4, 6, 4, 4, 10, 6, 4, 4, 6, 6, 8, 6, 8, 2, 6, 4, 0, 6, 12, 8, 4, 6, 12, 4, 4, 6, 6, 12, 6, 8, 10, 8, 6, 8, 6, 8, 6, 6, 6, 2, 4, 12, 4, 4, 4, 6, 8, 6, 8, 6, 8, 6, 14, 4, 12, 2, 8, 8, 6, 6, 4, 8, 8, 4, 6, 6, 10, 6, 6, 4, 8, 6, 6, 6, 6, 8, 6, 2, 4, 6, 8, 6, 8, 8, 6, 6, 6, 6, 6, 8], [12, 6, 10, 2, 6, 6, 6, 8, 6, 6, 4, 6, 4, 4, 10, 6, 6, 4, 6, 6, 10, 6, 8, 4, 6, 4, 0, 6, 14, 6, 4, 6, 10, 2, 4, 6, 4, 12, 6, 8, 10, 8, 6, 6, 6, 8, 6, 6, 6, 2, 4, 14, 4, 6, 4, 6, 8, 6, 8, 6, 6, 6, 12, 4, 14, 2, 8, 8, 8, 6, 4, 10, 8, 2, 6, 6, 12, 6, 4, 4, 8, 6, 6, 6, 6, 10, 6, 4, 4, 6, 8, 6, 8, 8, 6, 6, 6, 6, 6, 8], [12, 6, 10, 0, 6, 6, 6, 8, 6, 6, 4, 6, 6, 4, 10, 6, 6, 6, 6, 6, 10, 6, 8, 4, 6, 4, 0, 6, 14, 6, 4, 6, 10, 4, 6, 6, 4, 12, 6, 8, 10, 8, 6, 6, 6, 8, 6, 6, 6, 2, 4, 14, 6, 6, 4, 6, 8, 6, 8, 6, 6, 6, 12, 4, 14, 2, 8, 8, 8, 6, 4, 10, 8, 4, 6, 6, 12, 6, 4, 4, 8, 6, 6, 6, 6, 10, 6, 4, 4, 6, 8, 6, 10, 8, 8, 6, 8, 6, 6, 8], [12, 6, 10, 0, 6, 6, 6, 8, 6, 6, 4, 6, 6, 4, 10, 6, 6, 6, 6, 6, 10, 6, 8, 4, 6, 4, 0, 6, 14, 6, 4, 6, 10, 2, 6, 8, 6, 12, 6, 8, 10, 8, 6, 6, 6, 8, 6, 6, 6, 2, 4, 14, 6, 6, 4, 6, 8, 6, 8, 6, 8, 6, 12, 4, 14, 2, 8, 8, 8, 6, 4, 10, 10, 2, 6, 6, 12, 6, 6, 4, 10, 6, 6, 6, 6, 10, 6, 2, 4, 6, 8, 6, 10, 8, 8, 6, 8, 6, 6, 8], [12, 6, 26, 0, 6, 6, 6, 8, 6, 6, 4, 6, 6, 4, 10, 6, 6, 6, 6, 6, 10, 6, 8, 4, 6, 4, 0, 6, 14, 6, 4, 6, 24, 2, 6, 6, 4, 12, 6, 8, 10, 8, 6, 6, 6, 8, 6, 6, 6, 2, 4, 14, 6, 6, 4, 6, 8, 6, 8, 6, 8, 6, 16, 4, 14, 2, 8, 8, 8, 6, 4, 10, 10, 2, 6, 6, 12, 6, 6, 4, 10, 6, 6, 6, 6, 10, 6, 4, 4, 6, 8, 6, 10, 8, 8, 6, 8, 6, 6, 8], [12, 6, 10, 0, 6, 6, 6, 8, 6, 6, 4, 6, 6, 4, 10, 6, 6, 6, 6, 6, 10, 6, 6, 4, 6, 4, 0, 6, 14, 6, 4, 6, 12, 2, 6, 8, 4, 12, 6, 8, 10, 6, 6, 6, 6, 8, 6, 6, 6, 4, 4, 14, 6, 6, 4, 6, 8, 6, 8, 6, 6, 6, 12, 4, 14, 0, 8, 8, 8, 6, 2, 10, 8, 2, 6, 6, 12, 6, 6, 2, 8, 6, 6, 6, 6, 10, 6, 4, 2, 6, 8, 6, 8, 8, 8, 6, 8, 6, 6, 8], [12, 6, 10, 0, 6, 6, 6, 8, 6, 6, 4, 6, 6, 4, 10, 6, 6, 6, 6, 6, 10, 6, 6, 4, 6, 4, 0, 6, 14, 6, 4, 6, 10, 2, 6, 8, 4, 12, 6, 10, 10, 6, 6, 6, 6, 10, 6, 6, 8, 4, 4, 14, 6, 6, 4, 6, 10, 6, 10, 8, 6, 6, 12, 4, 14, 0, 8, 8, 8, 6, 2, 10, 8, 2, 6, 6, 12, 6, 4, 2, 8, 6, 6, 6, 6, 10, 6, 4, 2, 6, 10, 6, 8, 10, 8, 6, 8, 6, 6, 8], [12, 6, 10, 0, 6, 6, 6, 8, 6, 6, 4, 6, 6, 4, 10, 6, 6, 6, 6, 6, 10, 6, 6, 4, 6, 4, 0, 6, 14, 6, 4, 6, 12, 2, 6, 8, 4, 12, 6, 10, 10, 6, 6, 6, 6, 10, 6, 6, 8, 4, 4, 14, 6, 6, 4, 6, 10, 6, 10, 8, 8, 6, 12, 4, 14, 0, 8, 8, 8, 6, 2, 12, 10, 2, 6, 6, 14, 6, 6, 2, 10, 6, 6, 6, 6, 10, 6, 4, 2, 6, 10, 6, 8, 10, 8, 6, 8, 6, 6, 8], [12, 6, 10, 0, 6, 6, 6, 8, 6, 6, 4, 6, 6, 4, 10, 6, 6, 6, 6, 6, 10, 6, 6, 4, 6, 4, 0, 6, 14, 6, 4, 6, 12, 2, 6, 8, 4, 12, 6, 10, 10, 6, 6, 6, 6, 10, 6, 6, 8, 4, 4, 14, 6, 6, 4, 6, 10, 6, 10, 8, 8, 6, 12, 4, 14, 0, 10, 10, 8, 6, 2, 12, 10, 2, 6, 6, 12, 6, 6, 2, 10, 6, 6, 6, 6, 10, 6, 4, 2, 6, 10, 6, 8, 10, 8, 6, 8, 6, 6, 8], [14, 6, 12, 0, 6, 6, 6, 8, 6, 6, 4, 6, 8, 4, 12, 6, 6, 8, 6, 6, 10, 6, 6, 4, 6, 4, 0, 6, 14, 6, 4, 6, 12, 4, 8, 8, 6, 14, 6, 10, 10, 6, 6, 6, 6, 10, 6, 6, 8, 4, 4, 14, 8, 6, 4, 6, 10, 6, 10, 8, 8, 6, 14, 2, 14, 0, 10, 10, 8, 6, 2, 12, 10, 4, 6, 6, 12, 6, 6, 2, 10, 6, 6, 6, 6, 10, 6, 4, 2, 6, 10, 6, 10, 10, 8, 6, 8, 6, 6, 8], [16, 6, 12, 0, 6, 6, 6, 8, 6, 6, 2, 4, 8, 4, 12, 6, 6, 8, 6, 6, 10, 6, 6, 6, 6, 4, 0, 6, 16, 6, 6, 6, 12, 4, 8, 10, 6, 14, 6, 8, 10, 6, 6, 6, 6, 8, 6, 6, 6, 4, 4, 16, 8, 6, 2, 6, 8, 6, 8, 6, 8, 6, 16, 4, 16, 0, 10, 10, 10, 6, 2, 12, 10, 4, 6, 6, 14, 6, 6, 2, 10, 6, 6, 6, 6, 10, 6, 6, 2, 6, 8, 6, 10, 12, 8, 6, 8, 6, 6, 10], [14, 6, 10, 0, 6, 6, 6, 8, 6, 6, 4, 2, 8, 4, 12, 6, 8, 8, 6, 6, 10, 6, 6, 4, 6, 4, 0, 6, 14, 6, 6, 6, 12, 4, 8, 10, 6, 14, 6, 8, 10, 6, 6, 6, 6, 8, 6, 6, 6, 4, 4, 14, 8, 8, 4, 6, 8, 6, 8, 6, 6, 6, 12, 4, 14, 0, 10, 10, 10, 6, 2, 12, 8, 4, 6, 6, 14, 6, 6, 2, 8, 6, 6, 6, 6, 10, 6, 6, 2, 6, 8, 6, 10, 12, 8, 6, 8, 6, 6, 8], [16, 6, 10, 0, 6, 6, 6, 6, 6, 6, 4, 2, 8, 4, 12, 6, 8, 8, 6, 6, 10, 6, 6, 6, 6, 4, 0, 6, 14, 6, 4, 6, 12, 4, 8, 10, 4, 14, 6, 8, 10, 6, 6, 6, 6, 8, 6, 6, 6, 4, 4, 14, 8, 8, 4, 6, 8, 6, 8, 6, 6, 6, 12, 2, 14, 0, 12, 12, 10, 6, 0, 12, 8, 4, 6, 6, 14, 6, 6, 0, 8, 6, 6, 6, 6, 10, 6, 8, 0, 6, 8, 6, 8, 12, 8, 6, 8, 6, 6, 6], [14, 6, 10, 0, 6, 6, 6, 8, 6, 6, 4, 2, 8, 4, 12, 6, 8, 8, 6, 6, 10, 6, 8, 4, 6, 4, 0, 6, 14, 6, 6, 6, 12, 4, 8, 10, 4, 12, 6, 8, 10, 8, 6, 6, 6, 8, 6, 6, 6, 4, 2, 14, 8, 8, 4, 6, 8, 6, 8, 6, 6, 6, 12, 2, 14, 0, 10, 10, 10, 6, 0, 12, 8, 4, 6, 6, 14, 6, 6, 0, 8, 6, 6, 6, 6, 10, 6, 8, 0, 6, 8, 6, 10, 12, 8, 6, 8, 6, 6, 8]]\n",
      "[5.4, 5.1, 5.32, 6.38, 6.46, 6.62, 6.68, 7.0, 6.52, 6.64, 6.78, 6.8, 7.04, 7.12, 6.94, 6.86, 6.86]\n",
      "(5.4, 0.99950397)\n",
      "(5.1, 0.9985119)\n",
      "(5.32, 0.9980159)\n",
      "(6.38, 0.99900794)\n",
      "(6.46, 0.9985119)\n",
      "(6.62, 0.99603176)\n",
      "(6.68, 0.99553573)\n",
      "(7.0, 0.9945437)\n",
      "(6.52, 0.9875992)\n",
      "(6.64, 0.984623)\n",
      "(6.78, 0.984623)\n",
      "(6.8, 0.984623)\n",
      "(7.04, 0.984127)\n",
      "(7.12, 0.98363096)\n",
      "(6.94, 0.9776786)\n",
      "(6.86, 0.9464286)\n",
      "(6.86, 0.9429563)\n"
     ]
    }
   ],
   "source": [
    "\n",
    "\n",
    "def compute_robustness(min_norm_list):\n",
    "    return sum(min_norm_list) / len(min_norm_list)\n",
    "\n",
    "robustnesses = [compute_robustness(min_norm)\n",
    "                for min_norm in min_norms]\n",
    "\n",
    "print(min_norms)\n",
    "\n",
    "print(robustnesses)\n",
    "\n",
    "together = list(zip(robustnesses, accuracies))\n",
    "for pair in together:\n",
    "    print(pair)\n",
    "\n"
   ],
   "metadata": {
    "collapsed": false,
    "pycharm": {
     "name": "#%%\n"
    }
   }
  },
  {
   "cell_type": "code",
   "execution_count": 11,
   "outputs": [
    {
     "data": {
      "text/plain": "<Figure size 432x288 with 2 Axes>",
      "image/png": "[encoded data removed]"
     },
     "metadata": {
      "needs_background": "light"
     },
     "output_type": "display_data"
    }
   ],
   "source": [
    "# now, plot accuracy vs number changed\n",
    "# and robustness vs number changed\n",
    "\n",
    "from matplotlib import pyplot as plt\n",
    "\n",
    "x = [*range(len(order_of_indices) + 1)]\n",
    "\n",
    "fig, ax1 = plt.subplots()\n",
    "\n",
    "\n",
    "color = 'tab:red'\n",
    "ax1.set_xlabel(\"Number Stabilized\")\n",
    "ax1.set_ylabel(\"Accuracy\", color=color)\n",
    "ax1.plot(x, accuracies, color=color)\n",
    "\n",
    "ax2 = ax1.twinx()\n",
    "\n",
    "color = 'tab:blue'\n",
    "ax2.set_ylabel('Robustness (Expected Minimal Perturbation)', color=color)\n",
    "ax2.plot(x, robustnesses, color=color)\n",
    "\n",
    "ax1.set_title(\"Stabilized by decreasing $\\epsilon$ (from the paper)\")\n",
    "\n",
    "fig.tight_layout()\n",
    "plt.show()"
   ],
   "metadata": {
    "collapsed": false,
    "pycharm": {
     "name": "#%%\n"
    }
   }
  },
  {
   "cell_type": "code",
   "execution_count": 12,
   "outputs": [],
   "source": [
    "import json\n",
    "\n",
    "data = {\"min_norms\": [list(min_norm) for min_norm in min_norms],\n",
    "        \"accuracies\": [a.item() for a in accuracies], \"model\": in_file}\n",
    "\n",
    "\n",
    "\n",
    "out_file = \"500_datapoints_test_epsilons_reversed.json\"\n",
    "\n",
    "with open(out_file, \"w\") as out_handle:\n",
    "    json.dump(data, out_handle)"
   ],
   "metadata": {
    "collapsed": false,
    "pycharm": {
     "name": "#%%\n"
    }
   }
  },
  {
   "cell_type": "code",
   "execution_count": 12,
   "outputs": [],
   "source": [
    "\n"
   ],
   "metadata": {
    "collapsed": false,
    "pycharm": {
     "name": "#%%\n"
    }
   }
  }
 ],
 "metadata": {
  "kernelspec": {
   "name": "python3",
   "language": "python",
   "display_name": "Python 3"
  },
  "language_info": {
   "codemirror_mode": {
    "name": "ipython",
    "version": 3
   },
   "file_extension": ".py",
   "mimetype": "text/x-python",
   "name": "python",
   "nbconvert_exporter": "python",
   "pygments_lexer": "ipython3",
   "version": "3.7.7"
  }
 },
 "nbformat": 4,
 "nbformat_minor": 5
}